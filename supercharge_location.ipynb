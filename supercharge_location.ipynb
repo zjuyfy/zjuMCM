{
 "cells": [
  {
   "cell_type": "code",
   "execution_count": null,
   "metadata": {},
   "outputs": [],
   "source": [
    "import matplotlib.pyplot as plt\n",
    "import matplotlib.colors as color\n",
    "import numpy as np\n",
    "import random"
   ]
  },
  {
   "cell_type": "code",
   "execution_count": null,
   "metadata": {},
   "outputs": [],
   "source": [
    "# data=np.load(\"杭州xyn.npy\")\n",
    "data=np.load(\"杭州mergedXY.npy\")\n",
    "\n",
    "# print(data)\n",
    "demandCoordinates=[(data[i][0],data[i][1]) for i in range(data.shape[0])]\n",
    "size=data.shape[0]\n",
    "A=[(i,j) for i in range(size) for j in range(size)]\n",
    "N=[i for i in range(size)]\n",
    "pop_density=np.load(\"pop_density.npy\")\n",
    "for xy in demandCoordinates:\n",
    "    plt.plot(xy[0],xy[1],c=\"b\",marker=\"s\")\n",
    "pop_sum=np.sum(pop_density)\n",
    "pop_average=pop_sum/size"
   ]
  },
  {
   "cell_type": "code",
   "execution_count": null,
   "metadata": {},
   "outputs": [],
   "source": [
    "# cof=1.2\n",
    "# ablty=pop_average*10\n",
    "# p=cof*np.sum(pop_density)/ablty\n",
    "# q=[pop_density[i] for i in N]\n",
    "q=[pop_density[i] for i in N]\n",
    "p=4000\n",
    "ablty=1.1*pop_sum/p\n",
    "ablty"
   ]
  },
  {
   "cell_type": "code",
   "execution_count": null,
   "metadata": {},
   "outputs": [],
   "source": [
    "geo_dis={(i,j):np.hypot(demandCoordinates[i][0]-demandCoordinates[j][0],demandCoordinates[i][1]-demandCoordinates[j][1]) for i,j in A}   #几何距离\n",
    "# od=np.load(\"杭州ODN.npy\")\n",
    "od=np.load(\"杭州mergedOD.npy\")   #np格式的od矩阵\n",
    "od_dis={(i,j):od[i][j] for i,j in A}  #字典格式的od矩阵\n",
    "dis=od_dis"
   ]
  },
  {
   "cell_type": "code",
   "execution_count": null,
   "metadata": {},
   "outputs": [],
   "source": [
    "from gurobipy import Model, GRB , quicksum\n",
    "mdl=Model(\"p-center\")"
   ]
  },
  {
   "cell_type": "code",
   "execution_count": null,
   "metadata": {},
   "outputs": [],
   "source": [
    "x=mdl.addVars(A,vtype=GRB.CONTINUOUS,ub=1,lb=0)\n",
    "# x=mdl.addVars(A,vtype=GRB.BINARY)\n",
    "n=mdl.addVars(N,vtype=GRB.INTEGER)\n",
    "mdl.update()"
   ]
  },
  {
   "cell_type": "code",
   "execution_count": null,
   "metadata": {},
   "outputs": [],
   "source": [
    "mdl.ModelSense=GRB.MINIMIZE\n",
    "mdl.setObjective(quicksum(x[i,j]*dis[i,j]*q[j] for i,j in A),index=0,weight=0.5)\n",
    "mdl.setObjective(quicksum(x[i,j]*dis[i,j]*q[j] for i,j in A),index=0,weight=0.5)"
   ]
  },
  {
   "cell_type": "code",
   "execution_count": null,
   "metadata": {},
   "outputs": [],
   "source": [
    "mdl.addConstrs(quicksum(x[i,j] for j in N)== 1 for i in N);"
   ]
  },
  {
   "cell_type": "code",
   "execution_count": null,
   "metadata": {},
   "outputs": [],
   "source": [
    "mdl.addConstr(quicksum(n[i] for i in N )== p);"
   ]
  },
  {
   "cell_type": "code",
   "execution_count": null,
   "metadata": {},
   "outputs": [],
   "source": [
    "mdl.addConstrs((quicksum(q[i]*x[i,j] for i in N)<=n[j]*ablty )for j in N);"
   ]
  },
  {
   "cell_type": "code",
   "execution_count": null,
   "metadata": {},
   "outputs": [],
   "source": [
    "mdl.optimize()"
   ]
  },
  {
   "cell_type": "code",
   "execution_count": null,
   "metadata": {},
   "outputs": [],
   "source": [
    "# 画所有点及标注需求\n",
    "markersize=3\n",
    "linewidth=0.5\n",
    "for i in N:\n",
    "    xy=demandCoordinates[i]\n",
    "    plt.plot(xy[0],xy[1],c=\"b\",marker=\"s\",markersize=markersize)\n",
    "    #plt.text(xy[0],xy[1],f\"{q[i]}\")\n",
    "\n",
    "# 画需求量\n",
    "for i in N:\n",
    "    if (n[i].x>0):\n",
    "        xy=demandCoordinates[i]\n",
    "        col=plt.cm.rainbow\n",
    "        nMax=0.0\n",
    "        for ni in N:\n",
    "            # print(type(n[ni].x),n[ni].x,type(nMax))\n",
    "            if n[ni].x>nMax:\n",
    "                nMax=n[ni].x\n",
    "        norm=color.Normalize(vmax=round(nMax)+1,vmin=0)\n",
    "        plt.plot(xy[0],xy[1],marker=\"s\",color=col(norm(n[i].x)),markersize=markersize)\n",
    "        # plt.text(xy[0]-5,xy[1]-5,f\"{n[i].x}\",color=\"b\")\n",
    "        \n",
    "\n",
    "# 画供应线\n",
    "for i,j in A:\n",
    "    if x[i,j].x>0.0:\n",
    "        demandCoordinates[i][0],demandCoordinates[i][1]\n",
    "        demandCoordinates[j][0],demandCoordinates[j][1]\n",
    "        plt.plot([demandCoordinates[i][0],demandCoordinates[j][0]],[demandCoordinates[i][1],demandCoordinates[j][1]],color=\"r\",linewidth=linewidth)\n",
    "\n",
    "\n",
    "\n",
    "plt.xlabel(\"x\")\n",
    "plt.ylabel(\"y\")\n",
    "plt.show()\n",
    "    "
   ]
  }
 ],
 "metadata": {
  "language_info": {
   "name": "python"
  },
  "orig_nbformat": 4
 },
 "nbformat": 4,
 "nbformat_minor": 2
}
