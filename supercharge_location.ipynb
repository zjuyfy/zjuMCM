{
 "cells": [
  {
   "cell_type": "code",
   "execution_count": 158,
   "metadata": {},
   "outputs": [],
   "source": [
    "import matplotlib.pyplot as plt\n",
    "import matplotlib.colors as color\n",
    "import numpy as np\n",
    "import random"
   ]
  },
  {
   "cell_type": "code",
   "execution_count": 159,
   "metadata": {},
   "outputs": [
    {
     "data": {
      "text/plain": [
       "194"
      ]
     },
     "execution_count": 159,
     "metadata": {},
     "output_type": "execute_result"
    },
    {
     "data": {
      "image/png": "[encoded data removed]",
      "text/plain": [
       "<Figure size 432x288 with 1 Axes>"
      ]
     },
     "metadata": {
      "needs_background": "light"
     },
     "output_type": "display_data"
    }
   ],
   "source": [
    "# data=np.load(\"杭州xyn.npy\")\n",
    "data=np.load(\"nymergedXY.npy\")\n",
    "\n",
    "# print(data)\n",
    "demandCoordinates=[(data[i][0],data[i][1]) for i in range(data.shape[0])]\n",
    "size=data.shape[0]\n",
    "A=[(i,j) for i in range(size) for j in range(size)]\n",
    "N=[i for i in range(size)]\n",
    "pop_density=np.load(\"pop_density.npy\")\n",
    "for xy in demandCoordinates:\n",
    "    plt.plot(xy[0],xy[1],c=\"b\",marker=\"s\")\n",
    "pop_sum=np.sum(pop_density)\n",
    "pop_average=pop_sum/size\n",
    "size"
   ]
  },
  {
   "cell_type": "code",
   "execution_count": 160,
   "metadata": {},
   "outputs": [
    {
     "data": {
      "text/plain": [
       "247744.98705882352"
      ]
     },
     "execution_count": 160,
     "metadata": {},
     "output_type": "execute_result"
    }
   ],
   "source": [
    "# cof=1.2\n",
    "# ablty=pop_average*10\n",
    "# p=cof*np.sum(pop_density)/ablty\n",
    "# q=[pop_density[i] for i in N]\n",
    "q=[1 for i in N]\n",
    "p=40\n",
    "ablty=1.0005*pop_sum/p\n",
    "ablty"
   ]
  },
  {
   "cell_type": "code",
   "execution_count": 161,
   "metadata": {},
   "outputs": [],
   "source": [
    "geo_dis={(i,j):np.hypot(demandCoordinates[i][0]-demandCoordinates[j][0],demandCoordinates[i][1]-demandCoordinates[j][1]) for i,j in A}   #几何距离\n",
    "# od=np.load(\"杭州ODN.npy\")\n",
    "od=np.load(\"nymergedOD.npy\")   #np格式的od矩阵\n",
    "od_dis={(i,j):od[i][j] for i,j in A}  #字典格式的od矩阵\n",
    "dis=geo_dis"
   ]
  },
  {
   "cell_type": "code",
   "execution_count": 162,
   "metadata": {},
   "outputs": [],
   "source": [
    "from gurobipy import Model, GRB , quicksum\n",
    "mdl=Model(\"p-center\")"
   ]
  },
  {
   "cell_type": "code",
   "execution_count": 163,
   "metadata": {},
   "outputs": [],
   "source": [
    "x=mdl.addVars(A,vtype=GRB.CONTINUOUS,ub=1,lb=0)\n",
    "# x=mdl.addVars(A,vtype=GRB.BINARY)\n",
    "n=mdl.addVars(N,vtype=GRB.INTEGER)\n",
    "mdl.update()"
   ]
  },
  {
   "cell_type": "code",
   "execution_count": 164,
   "metadata": {},
   "outputs": [],
   "source": [
    "mdl.ModelSense=GRB.MINIMIZE\n",
    "mdl.setObjective(quicksum(x[i,j]*dis[i,j]*q[j] for i,j in A))"
   ]
  },
  {
   "cell_type": "code",
   "execution_count": 165,
   "metadata": {},
   "outputs": [],
   "source": [
    "mdl.addConstrs(quicksum(x[i,j] for j in N)== 1 for i in N);"
   ]
  },
  {
   "cell_type": "code",
   "execution_count": 166,
   "metadata": {},
   "outputs": [],
   "source": [
    "mdl.addConstr(quicksum(n[i] for i in N )== p);"
   ]
  },
  {
   "cell_type": "code",
   "execution_count": 167,
   "metadata": {},
   "outputs": [],
   "source": [
    "mdl.addConstrs((quicksum(q[i]*x[i,j] for i in N)<=n[j]*ablty )for j in N);"
   ]
  },
  {
   "cell_type": "code",
   "execution_count": 168,
   "metadata": {},
   "outputs": [
    {
     "name": "stdout",
     "output_type": "stream",
     "text": [
      "Gurobi Optimizer version 9.5.1 build v9.5.1rc2 (mac64[arm])\n",
      "Thread count: 8 physical cores, 8 logical processors, using up to 8 threads\n",
      "Optimize a model with 389 rows, 37830 columns and 75660 nonzeros\n",
      "Model fingerprint: 0xb2b90bcd\n",
      "Variable types: 37636 continuous, 194 integer (0 binary)\n",
      "Coefficient statistics:\n",
      "  Matrix range     [1e+00, 2e+05]\n",
      "  Objective range  [3e-01, 5e+04]\n",
      "  Bounds range     [1e+00, 1e+00]\n",
      "  RHS range        [1e+00, 4e+01]\n",
      "Found heuristic solution: objective 2845625.4231\n",
      "Presolve removed 1 rows and 1 columns\n",
      "Presolve time: 0.05s\n",
      "Presolved: 388 rows, 37829 columns, 75658 nonzeros\n",
      "Variable types: 37636 continuous, 193 integer (193 binary)\n",
      "\n",
      "Root relaxation: objective 0.000000e+00, 193 iterations, 0.00 seconds (0.00 work units)\n",
      "\n",
      "    Nodes    |    Current Node    |     Objective Bounds      |     Work\n",
      " Expl Unexpl |  Obj  Depth IntInf | Incumbent    BestBd   Gap | It/Node Time\n",
      "\n",
      "     0     0    0.00000    0  154 2845625.42    0.00000   100%     -    0s\n",
      "H    0     0                    234358.02404    0.00000   100%     -    0s\n",
      "H    0     0                    234249.41244    0.00000   100%     -    0s\n",
      "     0     0 27002.6719    0  127 234249.412 27002.6719  88.5%     -    0s\n",
      "H    0     0                    223630.32475 27002.6719  87.9%     -    0s\n",
      "     0     0 61720.3756    0   93 223630.325 61720.3756  72.4%     -    0s\n",
      "     0     0 62387.5281    0   93 223630.325 62387.5281  72.1%     -    0s\n",
      "     0     0 83584.3774    0   79 223630.325 83584.3774  62.6%     -    0s\n",
      "H    0     0                    211243.14447 83584.3774  60.4%     -    0s\n",
      "H    0     0                    202867.85913 83584.3774  58.8%     -    0s\n",
      "     0     0 100461.367    0   59 202867.859 100461.367  50.5%     -    0s\n",
      "H    0     0                    197709.21618 100796.209  49.0%     -    0s\n",
      "     0     0 100796.209    0   59 197709.216 100796.209  49.0%     -    0s\n",
      "     0     0 106604.428    0   43 197709.216 106604.428  46.1%     -    0s\n",
      "     0     0 106819.687    0   41 197709.216 106819.687  46.0%     -    0s\n",
      "     0     0 109161.335    0   33 197709.216 109161.335  44.8%     -    0s\n",
      "H    0     0                    182506.21743 109161.335  40.2%     -    0s\n",
      "     0     0 109163.268    0   34 182506.217 109163.268  40.2%     -    0s\n",
      "     0     0 111473.091    0   28 182506.217 111473.091  38.9%     -    0s\n",
      "H    0     0                    180444.06840 111473.091  38.2%     -    0s\n",
      "     0     0 112844.886    0   28 180444.068 112844.886  37.5%     -    0s\n",
      "     0     0 112844.886    0   28 180444.068 112844.886  37.5%     -    0s\n",
      "H    0     0                    166279.87952 112844.886  32.1%     -    0s\n",
      "     0     2 112844.886    0   28 166279.880 112844.886  32.1%     -    0s\n",
      "H   31    40                    128168.13592 115151.904  10.2%  31.3    1s\n",
      "H   34    40                    118598.78212 115299.039  2.78%  29.1    1s\n",
      "H   35    40                    118552.00452 115299.039  2.74%  28.3    1s\n",
      "H   66    65                    118472.62510 115870.912  2.20%  17.5    1s\n",
      "H   76    65                    117204.07440 115870.912  1.14%  15.8    1s\n",
      "H   79    66                    116999.46968 115870.912  0.96%  15.3    1s\n",
      "*  131    71              18    116841.04517 115870.912  0.83%  12.0    1s\n",
      "\n",
      "Cutting planes:\n",
      "  Implied bound: 916\n",
      "  MIR: 9\n",
      "  Flow cover: 1\n",
      "  Relax-and-lift: 4\n",
      "\n",
      "Explored 243 nodes (3895 simplex iterations) in 1.40 seconds (1.73 work units)\n",
      "Thread count was 8 (of 8 available processors)\n",
      "\n",
      "Solution count 10: 116841 116999 117204 ... 197709\n",
      "\n",
      "Optimal solution found (tolerance 1.00e-04)\n",
      "Best objective 1.168410451677e+05, best bound 1.168410451677e+05, gap 0.0000%\n"
     ]
    }
   ],
   "source": [
    "mdl.optimize()"
   ]
  },
  {
   "cell_type": "code",
   "execution_count": 169,
   "metadata": {},
   "outputs": [
    {
     "data": {
      "image/png": "[encoded data removed]",
      "text/plain": [
       "<Figure size 432x288 with 1 Axes>"
      ]
     },
     "metadata": {
      "needs_background": "light"
     },
     "output_type": "display_data"
    }
   ],
   "source": [
    "# 画所有点及标注需求\n",
    "markersize=3\n",
    "linewidth=0.5\n",
    "for i in N:\n",
    "    xy=demandCoordinates[i]\n",
    "    plt.plot(xy[0],xy[1],c=\"b\",marker=\"s\",markersize=markersize)\n",
    "    #plt.text(xy[0],xy[1],f\"{q[i]}\")\n",
    "\n",
    "# 画需求量\n",
    "for i in N:\n",
    "    if (n[i].x>0):\n",
    "        xy=demandCoordinates[i]\n",
    "        col=plt.cm.rainbow\n",
    "        nMax=0.0\n",
    "        for ni in N:\n",
    "            # print(type(n[ni].x),n[ni].x,type(nMax))\n",
    "            if n[ni].x>nMax:\n",
    "                nMax=n[ni].x\n",
    "        norm=color.Normalize(vmax=round(nMax)+1,vmin=0)\n",
    "        plt.plot(xy[0],xy[1],marker=\"s\",color=col(norm(n[i].x)),markersize=markersize)\n",
    "        # plt.text(xy[0]-5,xy[1]-5,f\"{n[i].x}\",color=\"b\")\n",
    "        \n",
    "\n",
    "# 画供应线\n",
    "for i,j in A:\n",
    "    if x[i,j].x>0.0:\n",
    "        demandCoordinates[i][0],demandCoordinates[i][1]\n",
    "        demandCoordinates[j][0],demandCoordinates[j][1]\n",
    "        plt.plot([demandCoordinates[i][0],demandCoordinates[j][0]],[demandCoordinates[i][1],demandCoordinates[j][1]],color=\"r\",linewidth=linewidth)\n",
    "\n",
    "\n",
    "\n",
    "plt.xlabel(\"x\")\n",
    "plt.ylabel(\"y\")\n",
    "plt.show()\n",
    "    "
   ]
  }
 ],
 "metadata": {
  "interpreter": {
   "hash": "b8bdd4e700647ba2b08c59e5df8b7da1dcf50a218bcd4c1bcd9b3dc92e8788e5"
  },
  "kernelspec": {
   "display_name": "Python 3.9.1rc1 64-bit",
   "language": "python",
   "name": "python3"
  },
  "language_info": {
   "codemirror_mode": {
    "name": "ipython",
    "version": 3
   },
   "file_extension": ".py",
   "mimetype": "text/x-python",
   "name": "python",
   "nbconvert_exporter": "python",
   "pygments_lexer": "ipython3",
   "version": "3.9.1rc1"
  },
  "orig_nbformat": 4
 },
 "nbformat": 4,
 "nbformat_minor": 2
}
