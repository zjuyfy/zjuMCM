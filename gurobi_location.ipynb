{
 "cells": [
  {
   "cell_type": "code",
   "execution_count": 5,
   "metadata": {},
   "outputs": [],
   "source": [
    "import matplotlib.pyplot as plt\n",
    "import matplotlib.colors as color\n",
    "import numpy as np\n",
    "import random"
   ]
  },
  {
   "cell_type": "code",
   "execution_count": 6,
   "metadata": {},
   "outputs": [
    {
     "data": {
      "image/png": "[encoded data removed]",
      "text/plain": [
       "<Figure size 432x288 with 1 Axes>"
      ]
     },
     "metadata": {
      "needs_background": "light"
     },
     "output_type": "display_data"
    }
   ],
   "source": [
    "# data=np.load(\"杭州xyn.npy\")\n",
    "data=np.load(\"杭州mergedXY.npy\")\n",
    "\n",
    "# print(data)\n",
    "demandCoordinates=[(data[i][0],data[i][1]) for i in range(data.shape[0])]\n",
    "size=data.shape[0]\n",
    "A=[(i,j) for i in range(size) for j in range(size)]\n",
    "N=[i for i in range(size)]\n",
    "pop_density=np.load(\"pop_density.npy\")\n",
    "for xy in demandCoordinates:\n",
    "    plt.plot(xy[0],xy[1],c=\"b\",marker=\"s\")\n",
    "pop_sum=np.sum(pop_density)\n",
    "pop_average=pop_sum/size"
   ]
  },
  {
   "cell_type": "code",
   "execution_count": 7,
   "metadata": {},
   "outputs": [
    {
     "data": {
      "text/plain": [
       "11885.816470588235"
      ]
     },
     "execution_count": 7,
     "metadata": {},
     "output_type": "execute_result"
    }
   ],
   "source": [
    "# cof=1.2\n",
    "# ablty=pop_average*10\n",
    "# p=cof*np.sum(pop_density)/ablty\n",
    "# q=[pop_density[i] for i in N]\n",
    "q=[pop_density[i] for i in N]\n",
    "p=1000\n",
    "ablty=1.2*pop_sum/p\n",
    "ablty"
   ]
  },
  {
   "cell_type": "code",
   "execution_count": 8,
   "metadata": {},
   "outputs": [],
   "source": [
    "\n",
    "geo_dis={(i,j):np.hypot(demandCoordinates[i][0]-demandCoordinates[j][0],demandCoordinates[i][1]-demandCoordinates[j][1]) for i,j in A}   #几何距离\n",
    "# od=np.load(\"杭州ODN.npy\")\n",
    "od=np.load(\"杭州mergedOD.npy\")   #np格式的od矩阵\n",
    "od_dis={(i,j):od[i][j] for i,j in A}  #字典格式的od矩阵\n",
    "dis=od_dis"
   ]
  },
  {
   "cell_type": "code",
   "execution_count": 9,
   "metadata": {},
   "outputs": [],
   "source": [
    "from gurobipy import Model, GRB , quicksum"
   ]
  },
  {
   "cell_type": "code",
   "execution_count": 10,
   "metadata": {},
   "outputs": [
    {
     "name": "stdout",
     "output_type": "stream",
     "text": [
      "Set parameter Username\n",
      "Academic license - for non-commercial use only - expires 2023-05-12\n"
     ]
    }
   ],
   "source": [
    "mdl=Model(\"p-center\")\n"
   ]
  },
  {
   "cell_type": "code",
   "execution_count": 11,
   "metadata": {},
   "outputs": [],
   "source": [
    "x=mdl.addVars(A,vtype=GRB.CONTINUOUS,ub=1,lb=0)\n",
    "# x=mdl.addVars(A,vtype=GRB.BINARY)\n",
    "n=mdl.addVars(N,vtype=GRB.INTEGER)\n",
    "mdl.update()"
   ]
  },
  {
   "cell_type": "code",
   "execution_count": 12,
   "metadata": {},
   "outputs": [],
   "source": [
    "mdl.ModelSense=GRB.MINIMIZE\n",
    "mdl.setObjective(quicksum(x[i,j]*dis[i,j]*q[j] for i,j in A))"
   ]
  },
  {
   "cell_type": "code",
   "execution_count": 13,
   "metadata": {},
   "outputs": [],
   "source": [
    "mdl.addConstrs(quicksum(x[i,j] for j in N)== 1 for i in N);"
   ]
  },
  {
   "cell_type": "code",
   "execution_count": 14,
   "metadata": {},
   "outputs": [],
   "source": [
    "mdl.addConstr(quicksum(n[i] for i in N )== p);"
   ]
  },
  {
   "cell_type": "code",
   "execution_count": 15,
   "metadata": {},
   "outputs": [],
   "source": [
    "mdl.addConstrs((quicksum(q[i]*x[i,j] for i in N)<=n[j]*ablty )for j in N);"
   ]
  },
  {
   "cell_type": "code",
   "execution_count": 16,
   "metadata": {},
   "outputs": [
    {
     "name": "stdout",
     "output_type": "stream",
     "text": [
      "Gurobi Optimizer version 9.5.1 build v9.5.1rc2 (mac64[arm])\n",
      "Thread count: 8 physical cores, 8 logical processors, using up to 8 threads\n",
      "Optimize a model with 2909 rows, 2115570 columns and 4231140 nonzeros\n",
      "Model fingerprint: 0x7ddce440\n",
      "Variable types: 2114116 continuous, 1454 integer (0 binary)\n",
      "Coefficient statistics:\n",
      "  Matrix range     [1e+00, 1e+04]\n",
      "  Objective range  [6e+03, 4e+08]\n",
      "  Bounds range     [1e+00, 1e+00]\n",
      "  RHS range        [1e+00, 1e+03]\n",
      "Found heuristic solution: objective 1.985901e+11\n",
      "Presolve removed 1 rows and 1 columns\n",
      "Presolve time: 2.36s\n",
      "Presolved: 2908 rows, 2115569 columns, 4231138 nonzeros\n",
      "Variable types: 2114116 continuous, 1453 integer (0 binary)\n",
      "\n",
      "Starting sifting (using dual simplex for sub-problems)...\n",
      "\n",
      "    Iter     Pivots    Primal Obj      Dual Obj        Time\n",
      "       0          0     infinity      0.0000000e+00      5s\n",
      "\n",
      "Sifting complete\n",
      "\n",
      "\n",
      "Root relaxation: objective 0.000000e+00, 1453 iterations, 0.51 seconds (0.45 work units)\n",
      "Total elapsed time = 5.03s\n",
      "\n",
      "    Nodes    |    Current Node    |     Objective Bounds      |     Work\n",
      " Expl Unexpl |  Obj  Depth IntInf | Incumbent    BestBd   Gap | It/Node Time\n",
      "\n",
      "     0     0    0.00000    0 1453 1.9859e+11    0.00000   100%     -    5s\n",
      "H    0     0                    1.654632e+09    0.00000   100%     -    8s\n",
      "H    0     0                    1.480095e+09    0.00000   100%     -   13s\n",
      "     0     0 7.6579e+07    0  876 1.4801e+09 7.6579e+07  94.8%     -   16s\n",
      "H    0     0                    1.421379e+09 7.6579e+07  94.6%     -   25s\n",
      "     0     0 9.2496e+07    0  801 1.4214e+09 9.2496e+07  93.5%     -   25s\n",
      "     0     0 9.2498e+07    0  802 1.4214e+09 9.2498e+07  93.5%     -   26s\n",
      "     0     0 1.3621e+08    0  701 1.4214e+09 1.3621e+08  90.4%     -   28s\n",
      "     0     0 1.3624e+08    0  704 1.4214e+09 1.3624e+08  90.4%     -   29s\n",
      "     0     0 1.5102e+08    0  638 1.4214e+09 1.5102e+08  89.4%     -   31s\n",
      "     0     0 1.5105e+08    0  636 1.4214e+09 1.5105e+08  89.4%     -   32s\n",
      "     0     0 1.5332e+08    0  605 1.4214e+09 1.5332e+08  89.2%     -   33s\n",
      "H    0     0                    7.313959e+08 1.5332e+08  79.0%     -   39s\n",
      "     0     0 1.5342e+08    0  603 7.3140e+08 1.5342e+08  79.0%     -   40s\n",
      "     0     0 1.5403e+08    0  594 7.3140e+08 1.5403e+08  78.9%     -   41s\n",
      "     0     0 1.5403e+08    0  594 7.3140e+08 1.5403e+08  78.9%     -   44s\n",
      "     0     2 1.5403e+08    0  594 7.3140e+08 1.5403e+08  78.9%     -   53s\n",
      "     7    16 1.5410e+08    3  587 7.3140e+08 1.5410e+08  78.9%   3.0   55s\n",
      "    63    72 1.5489e+08    9  584 7.3140e+08 1.5410e+08  78.9%   1.9   71s\n",
      "H  108   117                    6.434590e+08 1.5410e+08  76.1%   2.8   97s\n",
      "H  111   117                    6.425186e+08 1.5410e+08  76.0%   2.8   97s\n",
      "   132   150 1.5498e+08   14  584 6.4252e+08 1.5410e+08  76.0%   2.8  100s\n",
      "   202   224 1.5578e+08   20  576 6.4252e+08 1.5410e+08  76.0%   2.5  106s\n",
      "   270   295 1.5652e+08   27  570 6.4252e+08 1.5410e+08  76.0%   2.4  110s\n",
      "   320   346 1.5613e+08   31  570 6.4252e+08 1.5410e+08  76.0%   2.4  116s\n",
      "   397   422 1.5638e+08   36  566 6.4252e+08 1.5410e+08  76.0%   2.3  121s\n",
      "   454   490 1.5650e+08   40  564 6.4252e+08 1.5410e+08  76.0%   2.3  127s\n",
      "   521   562 1.5663e+08   47  552 6.4252e+08 1.5410e+08  76.0%   2.3  131s\n",
      "   561   598 1.5675e+08   50  549 6.4252e+08 1.5410e+08  76.0%   2.3  135s\n",
      "   622   654 1.5770e+08   56  548 6.4252e+08 1.5410e+08  76.0%   2.3  140s\n",
      "   686   723 1.5801e+08   63  541 6.4252e+08 1.5410e+08  76.0%   2.4  147s\n",
      "   722   756 1.5810e+08   65  540 6.4252e+08 1.5410e+08  76.0%   2.6  151s\n",
      "   755   812 1.5821e+08   68  539 6.4252e+08 1.5410e+08  76.0%   2.6  155s\n",
      "   811   857 1.5925e+08   72  540 6.4252e+08 1.5410e+08  76.0%   2.6  160s\n",
      "   909   963 1.6019e+08   79  536 6.4252e+08 1.5410e+08  76.0%   2.6  169s\n",
      "   962  1021 1.6069e+08   84  532 6.4252e+08 1.5410e+08  76.0%   2.6  173s\n",
      "  1020  1089 1.6164e+08   89  528 6.4252e+08 1.5410e+08  76.0%   2.6  180s\n",
      "H 1150  1197                    5.472963e+08 1.5410e+08  71.8%   2.6  194s\n",
      "H 1195  1197                    5.379783e+08 1.5410e+08  71.4%   2.6  194s\n",
      "  1196  1268 1.6280e+08  100  521 5.3798e+08 1.5410e+08  71.4%   2.6  199s\n",
      "  1247  1268 1.9265e+08  165  483 5.3798e+08 1.5410e+08  71.4%   2.6  200s\n",
      "  1319  1334 1.9388e+08  174  471 5.3798e+08 1.5410e+08  71.4%   2.7  205s\n",
      "  1358  1399 1.6055e+08   77  538 5.3798e+08 1.5410e+08  71.4%   2.7  210s\n",
      "  1398  1464 1.6693e+08  119  520 5.3798e+08 1.5410e+08  71.4%   2.7  216s\n",
      "  1463  1519 1.6795e+08  128  518 5.3798e+08 1.5410e+08  71.4%   2.8  221s\n",
      "  1518  1605 1.6804e+08  134  510 5.3798e+08 1.5410e+08  71.4%   2.9  229s\n",
      "  1604  1691 1.6955e+08  143  504 5.3798e+08 1.5410e+08  71.4%   2.9  235s\n",
      "  1690  1765 1.6990e+08  153  498 5.3798e+08 1.5410e+08  71.4%   2.9  242s\n",
      "  1764  1850 1.7119e+08  160  500 5.3798e+08 1.5410e+08  71.4%   3.0  249s\n",
      "  1849  1935 1.7149e+08  167  494 5.3798e+08 1.5410e+08  71.4%   3.1  255s\n",
      "  1934  2016 1.7228e+08  176  489 5.3798e+08 1.5410e+08  71.4%   3.1  261s\n",
      "  2015  2093 1.7357e+08  185  481 5.3798e+08 1.5410e+08  71.4%   3.2  267s\n",
      "  2092  2189 1.7465e+08  189  477 5.3798e+08 1.5410e+08  71.4%   3.3  274s\n",
      "  2188  2287 1.7578e+08  198  474 5.3798e+08 1.5410e+08  71.4%   3.4  281s\n",
      "H 2286  2295                    5.030559e+08 1.5410e+08  69.4%   3.4  302s\n",
      "H 2287  2295                    4.684435e+08 1.5410e+08  67.1%   3.4  302s\n",
      "H 2288  2295                    4.659197e+08 1.5410e+08  66.9%   3.4  302s\n",
      "  2294  2303 1.7615e+08  209  467 4.6592e+08 1.5410e+08  66.9%   3.4  315s\n",
      "  2302  2417 1.7613e+08  209  467 4.6592e+08 1.5410e+08  66.9%   3.4  324s\n",
      "  2416  2499 1.7845e+08  220  462 4.6592e+08 1.5410e+08  66.9%   3.4  330s\n",
      "  2498  2617 1.8018e+08  227  458 4.6592e+08 1.5410e+08  66.9%   3.4  339s\n",
      "  2616  2716 1.8196e+08  238  455 4.6592e+08 1.5410e+08  66.9%   3.4  346s\n",
      "  2715  2814 1.8372e+08  248  454 4.6592e+08 1.5410e+08  66.9%   3.5  352s\n",
      "  2813  2907 1.8594e+08  257  450 4.6592e+08 1.5410e+08  66.9%   3.5  359s\n",
      "  2906  3002 1.8759e+08  268  437 4.6592e+08 1.5410e+08  66.9%   3.6  365s\n"
     ]
    }
   ],
   "source": [
    "mdl.optimize()"
   ]
  },
  {
   "cell_type": "code",
   "execution_count": null,
   "metadata": {},
   "outputs": [
    {
     "data": {
      "image/png": "[encoded data removed]",
      "text/plain": [
       "<Figure size 432x288 with 1 Axes>"
      ]
     },
     "metadata": {
      "needs_background": "light"
     },
     "output_type": "display_data"
    }
   ],
   "source": [
    "# 画所有点及标注需求\n",
    "markersize=3\n",
    "linewidth=0.5\n",
    "for i in N:\n",
    "    xy=demandCoordinates[i]\n",
    "    plt.plot(xy[0],xy[1],c=\"b\",marker=\"s\",markersize=markersize)\n",
    "    #plt.text(xy[0],xy[1],f\"{q[i]}\")\n",
    "\n",
    "# 画需求量\n",
    "for i in N:\n",
    "    if (n[i].x>0):\n",
    "        xy=demandCoordinates[i]\n",
    "        col=plt.cm.rainbow\n",
    "        nMax=0.0\n",
    "        for ni in N:\n",
    "            # print(type(n[ni].x),n[ni].x,type(nMax))\n",
    "            if n[ni].x>nMax:\n",
    "                nMax=n[ni].x\n",
    "        norm=color.Normalize(vmax=round(nMax)+1,vmin=0)\n",
    "        plt.plot(xy[0],xy[1],marker=\"s\",color=col(norm(n[i].x)),markersize=markersize)\n",
    "        # plt.text(xy[0]-5,xy[1]-5,f\"{n[i].x}\",color=\"b\")\n",
    "        \n",
    "\n",
    "# 画供应线\n",
    "for i,j in A:\n",
    "    if x[i,j].x>0.0:\n",
    "        demandCoordinates[i][0],demandCoordinates[i][1]\n",
    "        demandCoordinates[j][0],demandCoordinates[j][1]\n",
    "        plt.plot([demandCoordinates[i][0],demandCoordinates[j][0]],[demandCoordinates[i][1],demandCoordinates[j][1]],color=\"r\",linewidth=linewidth)\n",
    "\n",
    "\n",
    "\n",
    "plt.xlabel(\"x\")\n",
    "plt.ylabel(\"y\")\n",
    "plt.show()\n",
    "    "
   ]
  },
  {
   "cell_type": "code",
   "execution_count": null,
   "metadata": {},
   "outputs": [
    {
     "name": "stdout",
     "output_type": "stream",
     "text": [
      "14,0,1,1,1,0,1,0,0,0,1,1,1,0,1,0,0,0,0,0,0,1,0,77,0,0,0,0,0,0,0,0,0,0,0,0,0,0,0,0,0,0,0,0,0,0,0,0,0,0,0,0,0,0,0,0,0,0,0,0,0,0,0,0,0,0,0,0,0,0,0,0,0,0,0,0,0,0,0,0,0,0,0,0,0,0,0,0,0,0,0,0,0,0,0,0,0,0,0,0,0,0,0,0,0,0,0,0,0,0,0,0,0,0,0,0,0,0,0,0,0,0,0,0,0,0,0,0,0,0,0,0,0,0,0,0,0,0,0,0,0,0,0,0,0,0,0,0,0,0,0,0,0,0,0,0,0,0,0,0,0,0,0,0,0,0,0,0,0,0,0,0,0,0,0,0,0,0,0,0,0,0,0,0,0,0,0,0,0,0,0,0,0,0,0,0,0,0,0,0,0,0,0,0,0,0,0,0,0,0,0,0,0,0,0,0,0,0,0,0,0,0,0,0,0,0,0,0,0,0,0,0,0,0,0,0,0,0,0,0,0,0,0,0,0,0,0,0,0,0,0,0,0,0,0,0,0,0,0,0,0,0,0,0,0,0,0,0,0,0,0,0,0,0,0,0,0,0,0,0,0,0,0,0,0,0,0,0,0,0,0,0,0,0,0,0,0,0,0,0,0,0,0,0,0,0,0,0,0,0,0,0,0,0,0,0,0,0,0,0,0,0,0,0,0,0,0,0,0,0,0,0,0,0,0,0,0,0,0,0,0,0,0,0,0,0,0,0,0,0,0,0,0,0,0,0,0,0,0,0,0,0,0,0,0,0,0,0,0,0,0,0,0,0,0,0,0,0,0,0,0,0,0,0,0,0,0,0,0,0,0,0,0,0,0,0,0,0,0,0,0,0,0,0,0,0,0,0,0,0,0,0,0,0,0,0,0,0,0,0,0,0,0,0,0,0,0,0,0,0,0,0,0,0,0,0,0,0,0,0,0,0,0,0,0,0,0,0,0,0,0,0,0,0,0,0,0,0,0,0,0,0,0,0,0,0,0,0,0,0,0,0,0,0,0,0,0,0,0,0,0,0,0,0,0,0,0,0,0,0,0,0,0,0,0,0,0,0,0,0,0,0,0,0,0,0,0,0,0,0,0,0,0,0,0,0,0,0,0,0,0,0,0,0,0,0,0,0,0,0,0,0,0,0,0,0,0,0,0,0,0,0,0,0,0,0,0,0,0,0,0,0,0,0,0,0,0,0,0,0,0,0,0,0,0,0,0,0,0,0,0,0,0,0,0,0,0,0,0,0,0,0,0,0,0,0,0,0,0,0,0,0,0,0,0,0,0,0,0,0,0,0,0,0,0,0,0,0,0,0,0,0,0,0,0,0,0,0,0,0,0,0,0,0,0,0,0,0,0,0,0,0,0,0,0,0,0,0,0,0,0,0,0,0,0,0,0,0,0,0,0,0,0,0,0,0,0,0,0,0,0,0,0,0,0,0,0,0,0,0,0,0,0,0,0,0,0,0,0,0,0,0,0,0,0,0,0,0,0,0,0,0,0,0,0,0,0,0,0,0,0,0,0,0,0,0,0,0,0,0,0,0,0,0,0,0,0,0,0,0,0,0,0,0,0,0,0,0,0,0,0,0,0,0,0,0,0,0,0,0,0,0,0,0,0,0,0,0,0,0,0,0,0,0,0,0,0,0,0,0,0,0,0,0,0,0,0,0,0,0,0,0,0,0,0,0,0,0,0,0,0,0,0,0,0,0,0,0,0,0,0,0,0,0,0,0,0,0,0,0,0,0,0,0,0,0,0,0,0,0,0,0,0,0,0,0,0,0,0,0,0,0,0,0,0,0,0,0,0,0,0,0,0,0,0,0,0,0,0,0,0,0,0,0,0,0,0,0,0,0,0,0,0,0,0,0,0,0,0,0,0,0,0,0,0,0,0,0,0,0,0,0,0,0,0,0,0,0,0,0,0,0,0,0,0,0,0,0,0,0,0,0,0,0,0,0,0,0,0,0,0,0,0,0,0,0,0,0,0,0,0,0,0,0,0,0,0,0,0,0,0,0,0,0,0,0,0,0,0,0,0,0,0,0,0,0,0,0,0,0,0,0,0,0,0,0,0,0,0,0,0,0,0,0,0,0,0,0,0,0,0,0,0,0,0,0,0,0,0,0,0,0,0,0,0,0,0,0,0,0,0,0,0,0,0,0,0,0,0,0,0,0,0,0,0,0,0,0,0,0,0,0,0,0,0,0,0,0,0,0,0,0,0,0,0,0,0,0,0,0,0,0,0,0,0,0,0,0,0,0,0,0,0,0,0,0,0,0,0,0,0,0,0,0,0,0,0,0,0,0,0,0,0,0,0,0,0,0,0,0,0,0,0,0,0,0,0,0,0,0,0,0,0,0,0,0,0,0,0,0,0,0,0,0,0,0,0,0,0,0,0,0,0,0,0,0,0,0,0,0,0,0,0,0,0,0,0,0,0,0,0,0,0,0,0,0,0,0,0,0,0,0,0,0,0,0,0,0,0,0,0,0,0,0,0,0,0,0,0,0,0,0,0,0,0,0,0,0,0,0,0,0,0,0,0,0,0,0,0,0,0,0,0,0,0,0,0,0,0,0,0,0,0,0,0,0,0,0,0,0,0,0,0,0,0,0,0,0,0,0,0,0,0,0,0,0,0,0,0,0,0,0,0,0,0,0,0,0,0,0,0,0,0,0,0,0,0,0,0,0,0,0,0,0,0,0,0,0,0,0,0,0,0,0,0,0,0,0,0,0,0,0,0,0,0,0,0,0,0,0,0,0,0,0,0,0,0,0,0,0,0,0,0,0,0,0,0,0,0,0,0,0,0,0,0,0,0,0,0,0,0,0,0,0,0,0,0,0,0,0,0,0,0,0,0,0,0,0,0,0,0,0,0,0,0,0,0,0,0,0,0,0,0,0,0,0,0,0,0,0,0,0,0,0,0,0,0,0,0,0,0,0,0,0,0,0,0,0,0,0,0,0,0,0,0,0,0,0,0,0,0,0,0,0,0,0,0,0,0,0,0,0,0,0,0,0,0,0,0,0,0,0,0,0,0,0,0,0,0,0,0,0,0,0,0,0,0,0,0,0,0,0,0,0,0,0,0,0,0,0,0,0,0,0,0,0,0,0,0,0,0,0,0,0,0,0,0,0,0,0,0,0,0,0,0,0,0,0,0,0,0,0,0,0,0,0,0,0,0,0,0,0,0,0,0,0,0,0,0,0,0,0,0,0,0,0,0,0,0,0,0,0,0,0,0,0,0,0,0,0,0,0,0,0,0,0,0,0,0,0,0,0,0,0,0,0,0,0,0,0,0,0,0,0,0,0,0,0,0,0,0,0,0,0,0,0,0,0,0,0,0,0,0,0,0,0,0,0,0,0,0,0,0,0,0,0,0,0,0,0,0,0,0,0,0,0,0,0,0,0,0,0,0,0,0,0,0,0,0,0,0,0,0,0,0,0,0,0,0,0,0,0,0,0,0,0,0,0,0,0,0,0,0,0,0,0,0,0,0,0,0,0,0,0,0,0,0,0,0,0,0,0,0,0,0,0,0,0,0,0,0,0,0,0,0,0,0,0,0,0,0,0,0,0,0,0,0,0,0,0,0,0,0,0,0,0,0,0,0,0,0,0,0,0,0,0,0,0,0,0,0,0,0,0,0,0,0,0,0,0,0,0,0,0,0,0,0,0,0,0,0,0,0,0,0,0,0,0,0,0,0,0,0,0,0,0,0,0,0,0,0,0,0,0,0,0,0,0,0,0,0,0,0,0,0,0,0,0,0,0,0,0,0,0,0,0,0,0,0,0,0,0,0,0,0,0,0,0,0,0,0,0,0,0,0,0,0,0,0,0,0,0,0,0,0,0,0,0,0,0,0,0,0,0,0,0,0,0,0,0,0,0,0,0,0,0,0,0,0,0,0,0,0,0,0,0,0,0,0,0,0,0,0,0,0,0,0,0,0,0,0,0,0,0,0,0,0,0,0,0,0,0,0,0,0,0,0,0,0,0,0,0,0,0,0,0,0,0,0,0,0,0,0,0,0,0,0,0,0,0,0,0,0,0,0,0,0,0,0,0,0,0,0,0,0,0,0,0,0,0,0,0,0,0,0,0,0,0,0,0,0,0,0,0,0,0,0,0,0,0,0,0,0,0,0,0,0,0,0,0,0,0,0,0,0,0,0,0,0,0,0,0,0,0,0,0,0,0,0,0,0,0,0,0,0,0,0,0,0,0,0,0,0,0,0,0,0,0,0,0,0,0,0,0,0,0,0,0,0,0,0,0,0,0,0,0,0,0,0,0,0,0,0,0,0,0,0,0,0,0,0,0,0,0,0,0,0,0,0,0,0,0,0,0,0,0,0,0,0,0,0,0,0,0,0,0,0,0,0,0,0,0,0,0,0,0,0,0,0,0,0,0,0,0,0,0,0,0,0,0,0,0,0,0,0,0,0,0,0,0,0,0,0,0,0,0,0,0,0,0,0,0,0,0,0,0,0,0,0,0,0,0,0,0,0,0,0,0,0,0,0,0,0,0,0,0,0,0,0,0,0,0,0,0,0,0,0,0,0,0,0,0,0,0,0,0,0,0,0,0,0,0,0,0,0,0,0,0,0,0,0,0,0,0,0,0,0,0,0,0,0,0,0,0,0,0,0,0,0,0,0,0,0,0,0,0,0,0,0,0,0,0,0,0,0,0,0,0,0,0,0,0,0,0,0,0,0,0,0,0,0,0,0,0,0,0,0,0,0,0,0,0,0,0,0,0,0,0,0,0,0,0,0,0,0,0,0,0,0,0,0,0,0,0,0,0,0,0,0,0,0,0,0,0,0,0,0,0,0,0,0,0,0,0,0,0,0,0,0,0,0,0,0,0,0,0,0,0,0,0,0,0,0,0,0,0,0,0,0,0,0,0,0,0,0,0,0,0,0,0,0,0,0,0,0,0,0,0,0,0,0,0,0,0,0,0,0,0,0,0,0,0,0,0,0,0,0,0,0,0,0,0,0,0,0,0,0,0,0,0,0,0,0,0,0,0,0,0,0,0,0,0,0,0,0,0,0,0,0,0,0,0,0,0,0,0,0,0,0,0,0,0,0,0,0,0,0,0,0,0,0,0,0,0,0,0,0,0,0,0,0,0,0,0,0,0,0,0,0,0,0,0,0,0,0,0,0,0,0,0,0,0,0,0,0,0,0,0,0,0,0,0,0,0,0,0,0,0,0,0,0,0,0,0,0,0,0,0,0,0,0,0,0,0,0,0,0,0,0,0,0,0,0,0,0,0,0,0,0,0,0,0,0,0,0,0,0,0,0,0,0,0,0,0,0,0,0,0,0,0,0,0,0,0,0,0,0,0,0,0,0,0,0,0,0,0,0,0,0,0,0,0,0,0,0,0,0,0,0,0,0,0,0,0,0,0,0,0,0,0,0,0,0,0,0,0,0,0,0,0,0,0,0,0,0,0,0,0,0,0,0,0,0,0,0,0,0,0,0,0,0,0,0,0,0,0,0,0,0,0,0,0,0,0,0,0,0,0,0,0,0,0,0,0,0,0,0,0,0,0,0,0,0,0,0,0,0,0,0,0,0,0,0,0,0,0,0,0,0,0,0,0,0,0,0,0,0,0,0,0,0,0,0,0,0,0,0,0,0,0,0,0,0,0,0,0,0,0,0,0,0,0,0,0,0,0,0,0,0,0,0,0,0,0,0,0,0,0,0,0,0,0,0,0,0,0,0,0,0,0,0,0,0,0,0,0,0,0,0,0,0,0,0,0,0,0,0,0,0,0,0,0,0,0,0,0,0,0,0,0,0,0,0,0,0,0,0,0,0,0,0,0,0,0,0,0,0,0,0,0,0,0,0,0,0,0,0,0,0,0,0,0,0,0,0,0,0,0,0,0,0,0,0,0,0,0,0,0,0,0,0,0,0,0,0,0,0,0,0,0,0,0,0,0,0,0,0,0,0,0,0,0,0,0,0,0,0,0,0,0,0,0,0,0,0,0,0,0,0,0,0,0,0,0,0,0,0,0,0,0,0,0,0,0,0,0,0,0,0,0,0,0,0,0,0,0,0,0,0,0,0,0,0,0,0,0,0,0,0,0,0,0,0,0,0,0,0,0,0,0,0,0,0,0,0,0,0,0,0,0,0,0,0,0,0,0,0,0,0,0,0,0,0,0,0,0,0,0,0,0,0,0,0,0,0,0,0,0,0,0,0,0,0,0,0,0,0,0,0,0,0,0,0,0,0,0,0,0,0,0,0,0,0,0,0,0,0,0,0,0,0,0,0,0,0,0,0,0,0,0,0,0,0,0,0,0,0,0,0,0,0,0,0,0,0,0,0,0,0,0,0,0,0,0,0,0,0,0,0,0,0,0,0,0,0,0,0,0,0,0,0,0,0,0,0,0,0,0,0,0,0,0,0,0,0,0,0,0,0,0,0,0,0,0,0,0,0,0,0,0,0,0,0,0,0,0,0,0,0,0,0,0,0,0,0,0,0,0,0,0,0,0,0,0,0,0,0,0,0,0,0,0,0,0,0,0,0,0,0,0,0,0,0,0,0,0,0,0,0,0,0,0,0,0,0,0,0,0,0,0,0,0,0,0,0,0,0,0,0,0,0,0,0,0,0,0,0,0,0,0,0,0,0,0,0,0,0,0,0,0,0,0,0,0,0,0,0,0,0,0,0,0,0,0,0,0,0,0,0,0,0,0,0,0,0,0,0,0,0,0,0,0,0,0,0,0,0,0,0,0,0,0,0,0,0,0,0,0,0,0,0,0,0,0,0,0,0,0,0,0,0,0,0,0,0,0,0,0,0,0,0,0,0,0,0,0,0,0,0,0,0,0,0,0,0,0,0,0,0,0,0,0,0,0,0,0,0,0,0,0,0,0,0,0,0,0,0,0,0,0,0,0,0,0,0,0,0,0,0,0,0,0,0,0,0,0,0,0,0,0,0,0,0,0,0,0,0,0,0,0,0,0,0,0,0,0,0,0,0,0,0,0,0,0,0,0,0,0,0,0,0,0,0,0,0,0,0,0,0,0,0,0,0,0,0,0,0,0,0,0,0,0,0,0,0,0,0,0,0,0,0,0,0,0,0,0,0,0,0,0,0,0,0,0,0,0,0,0,0,0,0,0,0,0,0,0,"
     ]
    },
    {
     "data": {
      "text/plain": [
       "100.0"
      ]
     },
     "execution_count": 42,
     "metadata": {},
     "output_type": "execute_result"
    }
   ],
   "source": [
    "sum=0\n",
    "for i in N:\n",
    "    print(round(n[i].x),end=\",\")\n",
    "    sum=sum+n[i].x\n",
    "sum"
   ]
  },
  {
   "cell_type": "code",
   "execution_count": null,
   "metadata": {},
   "outputs": [
    {
     "ename": "KeyboardInterrupt",
     "evalue": "",
     "output_type": "error",
     "traceback": [
      "\u001b[0;31m---------------------------------------------------------------------------\u001b[0m",
      "\u001b[0;31mKeyboardInterrupt\u001b[0m                         Traceback (most recent call last)",
      "\u001b[1;32m/Users/yunfeiyang/Desktop/zjuMCM/gurobi_location.ipynb Cell 15'\u001b[0m in \u001b[0;36m<cell line: 8>\u001b[0;34m()\u001b[0m\n\u001b[1;32m      <a href='vscode-notebook-cell:/Users/yunfeiyang/Desktop/zjuMCM/gurobi_location.ipynb#ch0000015?line=6'>7</a>\u001b[0m array2\u001b[39m=\u001b[39mnp\u001b[39m.\u001b[39mzeros((size,size))\n\u001b[1;32m      <a href='vscode-notebook-cell:/Users/yunfeiyang/Desktop/zjuMCM/gurobi_location.ipynb#ch0000015?line=7'>8</a>\u001b[0m \u001b[39mfor\u001b[39;00m i,j \u001b[39min\u001b[39;00m A:\n\u001b[0;32m----> <a href='vscode-notebook-cell:/Users/yunfeiyang/Desktop/zjuMCM/gurobi_location.ipynb#ch0000015?line=8'>9</a>\u001b[0m     array2[i,j]\u001b[39m=\u001b[39mx[i,j]\u001b[39m.\u001b[39;49mx\n\u001b[1;32m     <a href='vscode-notebook-cell:/Users/yunfeiyang/Desktop/zjuMCM/gurobi_location.ipynb#ch0000015?line=9'>10</a>\u001b[0m np\u001b[39m.\u001b[39msave(\u001b[39m\"\u001b[39m\u001b[39mx.npy\u001b[39m\u001b[39m\"\u001b[39m,array2)\n",
      "\u001b[0;31mKeyboardInterrupt\u001b[0m: "
     ]
    }
   ],
   "source": [
    "array=np.array([])\n",
    "for i in N:\n",
    "    array=np.append(array,n[i].x)\n",
    "array\n",
    "np.save(\"n.npy\",array)\n",
    "\n",
    "array2=np.zeros((size,size))\n",
    "for i,j in A:\n",
    "    array2[i,j]=x[i,j].x\n",
    "np.save(\"x.npy\",array2)"
   ]
  },
  {
   "cell_type": "code",
   "execution_count": null,
   "metadata": {},
   "outputs": [],
   "source": []
  }
 ],
 "metadata": {
  "interpreter": {
   "hash": "b8bdd4e700647ba2b08c59e5df8b7da1dcf50a218bcd4c1bcd9b3dc92e8788e5"
  },
  "kernelspec": {
   "display_name": "Python 3.9.1rc1 64-bit",
   "language": "python",
   "name": "python3"
  },
  "language_info": {
   "codemirror_mode": {
    "name": "ipython",
    "version": 3
   },
   "file_extension": ".py",
   "mimetype": "text/x-python",
   "name": "python",
   "nbconvert_exporter": "python",
   "pygments_lexer": "ipython3",
   "version": "3.9.1rc1"
  },
  "orig_nbformat": 4
 },
 "nbformat": 4,
 "nbformat_minor": 2
}
