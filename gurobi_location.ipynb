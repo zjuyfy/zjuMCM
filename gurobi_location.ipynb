{
 "cells": [
  {
   "cell_type": "code",
   "execution_count": null,
   "metadata": {},
   "outputs": [],
   "source": [
    "import matplotlib.pyplot as plt\n",
    "import matplotlib.colors as color\n",
    "import numpy as np"
   ]
  },
  {
   "cell_type": "code",
   "execution_count": null,
   "metadata": {},
   "outputs": [],
   "source": [
    "ablty=20\n",
    "coe=1+10/100"
   ]
  },
  {
   "cell_type": "code",
   "execution_count": null,
   "metadata": {},
   "outputs": [],
   "source": [
    "# demandCoordinates = [(88, 16), (25, 76), (69, 13), (73, 56), (80, 100), (22, 92), (32, 84), (73, 46), (\n",
    "#         29, 10), (92, 32), (44, 44), (55, 26), (71, 27), (51, 91), (89, 54), (43, 28), (40, 78), (60, 66)]\n",
    "data=np.load(\"xy坐标.npy\")\n",
    "demandCoordinates=[(data[i][0],data[i][1]) for i in range(data.shape[0])]\n",
    "size=data.shape[0]\n",
    "q=[1 for i in range(size)]\n",
    "p=300\n",
    "for xy in demandCoordinates:\n",
    "    plt.plot(xy[0],xy[1],c=\"b\",marker=\"s\")"
   ]
  },
  {
   "cell_type": "code",
   "execution_count": null,
   "metadata": {},
   "outputs": [],
   "source": [
    "A=[(i,j) for i in range(size) for j in range(size)]\n",
    "N=[i for i in range(size)]\n",
    "dis={(i,j):np.hypot(demandCoordinates[i][0]-demandCoordinates[j][0],demandCoordinates[i][1]-demandCoordinates[j][1]) for i,j in A}"
   ]
  },
  {
   "cell_type": "code",
   "execution_count": null,
   "metadata": {},
   "outputs": [],
   "source": [
    "from gurobipy import Model, GRB , quicksum"
   ]
  },
  {
   "cell_type": "code",
   "execution_count": null,
   "metadata": {},
   "outputs": [],
   "source": [
    "mdl=Model(\"p-center\")\n"
   ]
  },
  {
   "cell_type": "code",
   "execution_count": null,
   "metadata": {},
   "outputs": [],
   "source": [
    "x=mdl.addVars(A,vtype=GRB.CONTINUOUS,ub=1,lb=0)\n",
    "# x=mdl.addVars(A,vtype=GRB.BINARY)\n",
    "n=mdl.addVars(N,vtype=GRB.INTEGER)"
   ]
  },
  {
   "cell_type": "code",
   "execution_count": null,
   "metadata": {},
   "outputs": [],
   "source": [
    "mdl.ModelSense=GRB.MINIMIZE\n",
    "mdl.setObjective(quicksum(x[i,j]*dis[i,j]*q[j] for i,j in A))"
   ]
  },
  {
   "cell_type": "code",
   "execution_count": null,
   "metadata": {},
   "outputs": [],
   "source": [
    "mdl.addConstrs(quicksum(x[i,j] for j in N)== 1 for i in N);"
   ]
  },
  {
   "cell_type": "code",
   "execution_count": null,
   "metadata": {},
   "outputs": [],
   "source": [
    "mdl.addConstr(quicksum(n[i] for i in N )== p);"
   ]
  },
  {
   "cell_type": "code",
   "execution_count": null,
   "metadata": {},
   "outputs": [],
   "source": [
    "mdl.addConstrs((quicksum(q[i]*x[i,j] for i in N)<=n[j]*ablty )for j in N);"
   ]
  },
  {
   "cell_type": "code",
   "execution_count": null,
   "metadata": {},
   "outputs": [],
   "source": [
    "mdl.optimize()"
   ]
  },
  {
   "cell_type": "code",
   "execution_count": null,
   "metadata": {},
   "outputs": [],
   "source": [
    "# 画所有点及标注需求\n",
    "markersize=3\n",
    "linewidth=0.5\n",
    "for i in N:\n",
    "    xy=demandCoordinates[i]\n",
    "    plt.plot(xy[0],xy[1],c=\"b\",marker=\"s\",markersize=markersize)\n",
    "    #plt.text(xy[0],xy[1],f\"{q[i]}\")\n",
    "\n",
    "# 画需求量\n",
    "for i in N:\n",
    "    if (n[i].x>0):\n",
    "        xy=demandCoordinates[i]\n",
    "        col=plt.cm.rainbow\n",
    "        nMax=0.0\n",
    "        for ni in N:\n",
    "            # print(type(n[ni].x),n[ni].x,type(nMax))\n",
    "            if n[ni].x>nMax:\n",
    "                nMax=n[ni].x\n",
    "        norm=color.Normalize(vmax=round(nMax)+1,vmin=0)\n",
    "        plt.plot(xy[0],xy[1],marker=\"s\",color=col(norm(n[i].x)),markersize=markersize)\n",
    "        # plt.text(xy[0]-5,xy[1]-5,f\"{n[i].x}\",color=\"b\")\n",
    "        \n",
    "\n",
    "# 画供应线\n",
    "for i,j in A:\n",
    "    if x[i,j].x>0.0:\n",
    "        demandCoordinates[i][0],demandCoordinates[i][1]\n",
    "        demandCoordinates[j][0],demandCoordinates[j][1]\n",
    "        plt.plot([demandCoordinates[i][0],demandCoordinates[j][0]],[demandCoordinates[i][1],demandCoordinates[j][1]],color=\"r\",linewidth=linewidth)\n",
    "    "
   ]
  },
  {
   "cell_type": "code",
   "execution_count": null,
   "metadata": {},
   "outputs": [],
   "source": [
    "for i in N:\n",
    "    print(round(n[i].x),end=\",\")"
   ]
  },
  {
   "cell_type": "code",
   "execution_count": null,
   "metadata": {},
   "outputs": [],
   "source": [
    "print(n[1].x)"
   ]
  },
  {
   "cell_type": "code",
   "execution_count": null,
   "metadata": {},
   "outputs": [],
   "source": [
    "np.save()"
   ]
  }
 ],
 "metadata": {
  "interpreter": {
   "hash": "b8bdd4e700647ba2b08c59e5df8b7da1dcf50a218bcd4c1bcd9b3dc92e8788e5"
  },
  "kernelspec": {
   "display_name": "Python 3.9.1rc1 64-bit",
   "language": "python",
   "name": "python3"
  },
  "language_info": {
   "codemirror_mode": {
    "name": "ipython",
    "version": 3
   },
   "file_extension": ".py",
   "mimetype": "text/x-python",
   "name": "python",
   "nbconvert_exporter": "python",
   "pygments_lexer": "ipython3",
   "version": "3.9.1"
  },
  "orig_nbformat": 4
 },
 "nbformat": 4,
 "nbformat_minor": 2
}
