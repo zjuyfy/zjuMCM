{
 "cells": [
  {
   "cell_type": "code",
   "execution_count": null,
   "metadata": {},
   "outputs": [
    {
     "ename": "",
     "evalue": "",
     "output_type": "error",
     "traceback": [
      "\u001b[1;31m无法启动 Jupyter。试图定位jupyter时出错：在解释器 Python 3.9.1rc1 64-bit 中没有安装数据科学库 notebook。\n",
      "Run the following command to install 'jupyter 和 notebook' into the Python environment. \n",
      "Command: 'python -m pip install jupyter notebook -U\n",
      "or\n",
      "conda install jupyter notebook -U'\n",
      "Click <a href='https://aka.ms/installJupyterForVSCode'>here</a> for more info."
     ]
    }
   ],
   "source": [
    "import matplotlib.pyplot as plt\n",
    "import matplotlib.colors as color\n",
    "import numpy as np"
   ]
  },
  {
   "cell_type": "code",
   "execution_count": null,
   "metadata": {},
   "outputs": [
    {
     "ename": "",
     "evalue": "",
     "output_type": "error",
     "traceback": [
      "\u001b[1;31m无法启动 Jupyter。试图定位jupyter时出错：在解释器 Python 3.9.1rc1 64-bit 中没有安装数据科学库 notebook。\n",
      "Run the following command to install 'jupyter 和 notebook' into the Python environment. \n",
      "Command: 'python -m pip install jupyter notebook -U\n",
      "or\n",
      "conda install jupyter notebook -U'\n",
      "Click <a href='https://aka.ms/installJupyterForVSCode'>here</a> for more info."
     ]
    },
    {
     "ename": "",
     "evalue": "",
     "output_type": "error",
     "traceback": [
      "\u001b[1;31m无法启动 Jupyter。试图定位jupyter时出错：在解释器 Python 3.9.1rc1 64-bit 中没有安装数据科学库 notebook。\n",
      "Run the following command to install 'jupyter 和 notebook' into the Python environment. \n",
      "Command: 'python -m pip install jupyter notebook -U\n",
      "or\n",
      "conda install jupyter notebook -U'\n",
      "Click <a href='https://aka.ms/installJupyterForVSCode'>here</a> for more info."
     ]
    }
   ],
   "source": [
    "ablty=20\n",
    "coe=1+10/100"
   ]
  },
  {
   "cell_type": "code",
   "execution_count": null,
   "metadata": {},
   "outputs": [
    {
     "data": {
      "image/png": "[encoded data removed]",
      "text/plain": [
       "<Figure size 432x288 with 1 Axes>"
      ]
     },
     "metadata": {
      "needs_background": "light"
     },
     "output_type": "display_data"
    },
    {
     "ename": "",
     "evalue": "",
     "output_type": "error",
     "traceback": [
      "\u001b[1;31m无法启动 Jupyter。试图定位jupyter时出错：在解释器 Python 3.9.1rc1 64-bit 中没有安装数据科学库 notebook。\n",
      "Run the following command to install 'jupyter 和 notebook' into the Python environment. \n",
      "Command: 'python -m pip install jupyter notebook -U\n",
      "or\n",
      "conda install jupyter notebook -U'\n",
      "Click <a href='https://aka.ms/installJupyterForVSCode'>here</a> for more info."
     ]
    },
    {
     "ename": "",
     "evalue": "",
     "output_type": "error",
     "traceback": [
      "\u001b[1;31m无法启动 Jupyter。试图定位jupyter时出错：在解释器 Python 3.9.1rc1 64-bit 中没有安装数据科学库 notebook。\n",
      "Run the following command to install 'jupyter 和 notebook' into the Python environment. \n",
      "Command: 'python -m pip install jupyter notebook -U\n",
      "or\n",
      "conda install jupyter notebook -U'\n",
      "Click <a href='https://aka.ms/installJupyterForVSCode'>here</a> for more info."
     ]
    }
   ],
   "source": [
    "# demandCoordinates = [(88, 16), (25, 76), (69, 13), (73, 56), (80, 100), (22, 92), (32, 84), (73, 46), (\n",
    "#         29, 10), (92, 32), (44, 44), (55, 26), (71, 27), (51, 91), (89, 54), (43, 28), (40, 78), (60, 66)]\n",
    "data=np.load(\"xy坐标.npy\")\n",
    "demandCoordinates=[(data[i][0],data[i][1]) for i in range(data.shape[0])]\n",
    "size=data.shape[0]\n",
    "q=[1 for i in range(size)]\n",
    "p=300\n",
    "for xy in demandCoordinates:\n",
    "    plt.plot(xy[0],xy[1],c=\"b\",marker=\"s\")"
   ]
  },
  {
   "cell_type": "code",
   "execution_count": null,
   "metadata": {},
   "outputs": [
    {
     "ename": "",
     "evalue": "",
     "output_type": "error",
     "traceback": [
      "\u001b[1;31m无法启动 Jupyter。试图定位jupyter时出错：在解释器 Python 3.9.1rc1 64-bit 中没有安装数据科学库 notebook。\n",
      "Run the following command to install 'jupyter 和 notebook' into the Python environment. \n",
      "Command: 'python -m pip install jupyter notebook -U\n",
      "or\n",
      "conda install jupyter notebook -U'\n",
      "Click <a href='https://aka.ms/installJupyterForVSCode'>here</a> for more info."
     ]
    },
    {
     "ename": "",
     "evalue": "",
     "output_type": "error",
     "traceback": [
      "\u001b[1;31m无法启动 Jupyter。试图定位jupyter时出错：在解释器 Python 3.9.1rc1 64-bit 中没有安装数据科学库 notebook。\n",
      "Run the following command to install 'jupyter 和 notebook' into the Python environment. \n",
      "Command: 'python -m pip install jupyter notebook -U\n",
      "or\n",
      "conda install jupyter notebook -U'\n",
      "Click <a href='https://aka.ms/installJupyterForVSCode'>here</a> for more info."
     ]
    }
   ],
   "source": [
    "A=[(i,j) for i in range(size) for j in range(size)]\n",
    "N=[i for i in range(size)]\n",
    "dis={(i,j):np.hypot(demandCoordinates[i][0]-demandCoordinates[j][0],demandCoordinates[i][1]-demandCoordinates[j][1]) for i,j in A}"
   ]
  },
  {
   "cell_type": "code",
   "execution_count": null,
   "metadata": {},
   "outputs": [
    {
     "ename": "",
     "evalue": "",
     "output_type": "error",
     "traceback": [
      "\u001b[1;31m无法启动 Jupyter。试图定位jupyter时出错：在解释器 Python 3.9.1rc1 64-bit 中没有安装数据科学库 notebook。\n",
      "Run the following command to install 'jupyter 和 notebook' into the Python environment. \n",
      "Command: 'python -m pip install jupyter notebook -U\n",
      "or\n",
      "conda install jupyter notebook -U'\n",
      "Click <a href='https://aka.ms/installJupyterForVSCode'>here</a> for more info."
     ]
    },
    {
     "ename": "",
     "evalue": "",
     "output_type": "error",
     "traceback": [
      "\u001b[1;31m无法启动 Jupyter。试图定位jupyter时出错：在解释器 Python 3.9.1rc1 64-bit 中没有安装数据科学库 notebook。\n",
      "Run the following command to install 'jupyter 和 notebook' into the Python environment. \n",
      "Command: 'python -m pip install jupyter notebook -U\n",
      "or\n",
      "conda install jupyter notebook -U'\n",
      "Click <a href='https://aka.ms/installJupyterForVSCode'>here</a> for more info."
     ]
    }
   ],
   "source": [
    "from gurobipy import Model, GRB , quicksum"
   ]
  },
  {
   "cell_type": "code",
   "execution_count": null,
   "metadata": {},
   "outputs": [
    {
     "ename": "",
     "evalue": "",
     "output_type": "error",
     "traceback": [
      "\u001b[1;31m无法启动 Jupyter。试图定位jupyter时出错：在解释器 Python 3.9.1rc1 64-bit 中没有安装数据科学库 notebook。\n",
      "Run the following command to install 'jupyter 和 notebook' into the Python environment. \n",
      "Command: 'python -m pip install jupyter notebook -U\n",
      "or\n",
      "conda install jupyter notebook -U'\n",
      "Click <a href='https://aka.ms/installJupyterForVSCode'>here</a> for more info."
     ]
    },
    {
     "ename": "",
     "evalue": "",
     "output_type": "error",
     "traceback": [
      "\u001b[1;31m无法启动 Jupyter。试图定位jupyter时出错：在解释器 Python 3.9.1rc1 64-bit 中没有安装数据科学库 notebook。\n",
      "Run the following command to install 'jupyter 和 notebook' into the Python environment. \n",
      "Command: 'python -m pip install jupyter notebook -U\n",
      "or\n",
      "conda install jupyter notebook -U'\n",
      "Click <a href='https://aka.ms/installJupyterForVSCode'>here</a> for more info."
     ]
    }
   ],
   "source": [
    "mdl=Model(\"p-center\")\n"
   ]
  },
  {
   "cell_type": "code",
   "execution_count": null,
   "metadata": {},
   "outputs": [
    {
     "ename": "",
     "evalue": "",
     "output_type": "error",
     "traceback": [
      "\u001b[1;31m无法启动 Jupyter。试图定位jupyter时出错：在解释器 Python 3.9.1rc1 64-bit 中没有安装数据科学库 notebook。\n",
      "Run the following command to install 'jupyter 和 notebook' into the Python environment. \n",
      "Command: 'python -m pip install jupyter notebook -U\n",
      "or\n",
      "conda install jupyter notebook -U'\n",
      "Click <a href='https://aka.ms/installJupyterForVSCode'>here</a> for more info."
     ]
    },
    {
     "ename": "",
     "evalue": "",
     "output_type": "error",
     "traceback": [
      "\u001b[1;31m无法启动 Jupyter。试图定位jupyter时出错：在解释器 Python 3.9.1rc1 64-bit 中没有安装数据科学库 notebook。\n",
      "Run the following command to install 'jupyter 和 notebook' into the Python environment. \n",
      "Command: 'python -m pip install jupyter notebook -U\n",
      "or\n",
      "conda install jupyter notebook -U'\n",
      "Click <a href='https://aka.ms/installJupyterForVSCode'>here</a> for more info."
     ]
    }
   ],
   "source": [
    "x=mdl.addVars(A,vtype=GRB.CONTINUOUS,ub=1,lb=0)\n",
    "# x=mdl.addVars(A,vtype=GRB.BINARY)\n",
    "n=mdl.addVars(N,vtype=GRB.INTEGER)"
   ]
  },
  {
   "cell_type": "code",
   "execution_count": null,
   "metadata": {},
   "outputs": [
    {
     "ename": "",
     "evalue": "",
     "output_type": "error",
     "traceback": [
      "\u001b[1;31m无法启动 Jupyter。试图定位jupyter时出错：在解释器 Python 3.9.1rc1 64-bit 中没有安装数据科学库 notebook。\n",
      "Run the following command to install 'jupyter 和 notebook' into the Python environment. \n",
      "Command: 'python -m pip install jupyter notebook -U\n",
      "or\n",
      "conda install jupyter notebook -U'\n",
      "Click <a href='https://aka.ms/installJupyterForVSCode'>here</a> for more info."
     ]
    },
    {
     "ename": "",
     "evalue": "",
     "output_type": "error",
     "traceback": [
      "\u001b[1;31m无法启动 Jupyter。试图定位jupyter时出错：在解释器 Python 3.9.1rc1 64-bit 中没有安装数据科学库 notebook。\n",
      "Run the following command to install 'jupyter 和 notebook' into the Python environment. \n",
      "Command: 'python -m pip install jupyter notebook -U\n",
      "or\n",
      "conda install jupyter notebook -U'\n",
      "Click <a href='https://aka.ms/installJupyterForVSCode'>here</a> for more info."
     ]
    }
   ],
   "source": [
    "mdl.ModelSense=GRB.MINIMIZE\n",
    "mdl.setObjective(quicksum(x[i,j]*dis[i,j]*q[j] for i,j in A))"
   ]
  },
  {
   "cell_type": "code",
   "execution_count": null,
   "metadata": {},
   "outputs": [
    {
     "ename": "",
     "evalue": "",
     "output_type": "error",
     "traceback": [
      "\u001b[1;31m无法启动 Jupyter。试图定位jupyter时出错：在解释器 Python 3.9.1rc1 64-bit 中没有安装数据科学库 notebook。\n",
      "Run the following command to install 'jupyter 和 notebook' into the Python environment. \n",
      "Command: 'python -m pip install jupyter notebook -U\n",
      "or\n",
      "conda install jupyter notebook -U'\n",
      "Click <a href='https://aka.ms/installJupyterForVSCode'>here</a> for more info."
     ]
    },
    {
     "ename": "",
     "evalue": "",
     "output_type": "error",
     "traceback": [
      "\u001b[1;31m无法启动 Jupyter。试图定位jupyter时出错：在解释器 Python 3.9.1rc1 64-bit 中没有安装数据科学库 notebook。\n",
      "Run the following command to install 'jupyter 和 notebook' into the Python environment. \n",
      "Command: 'python -m pip install jupyter notebook -U\n",
      "or\n",
      "conda install jupyter notebook -U'\n",
      "Click <a href='https://aka.ms/installJupyterForVSCode'>here</a> for more info."
     ]
    }
   ],
   "source": [
    "mdl.addConstrs(quicksum(x[i,j] for j in N)== 1 for i in N);"
   ]
  },
  {
   "cell_type": "code",
   "execution_count": null,
   "metadata": {},
   "outputs": [
    {
     "ename": "",
     "evalue": "",
     "output_type": "error",
     "traceback": [
      "\u001b[1;31m无法启动 Jupyter。试图定位jupyter时出错：在解释器 Python 3.9.1rc1 64-bit 中没有安装数据科学库 notebook。\n",
      "Run the following command to install 'jupyter 和 notebook' into the Python environment. \n",
      "Command: 'python -m pip install jupyter notebook -U\n",
      "or\n",
      "conda install jupyter notebook -U'\n",
      "Click <a href='https://aka.ms/installJupyterForVSCode'>here</a> for more info."
     ]
    },
    {
     "ename": "",
     "evalue": "",
     "output_type": "error",
     "traceback": [
      "\u001b[1;31m无法启动 Jupyter。试图定位jupyter时出错：在解释器 Python 3.9.1rc1 64-bit 中没有安装数据科学库 notebook。\n",
      "Run the following command to install 'jupyter 和 notebook' into the Python environment. \n",
      "Command: 'python -m pip install jupyter notebook -U\n",
      "or\n",
      "conda install jupyter notebook -U'\n",
      "Click <a href='https://aka.ms/installJupyterForVSCode'>here</a> for more info."
     ]
    }
   ],
   "source": [
    "mdl.addConstr(quicksum(n[i] for i in N )== p);"
   ]
  },
  {
   "cell_type": "code",
   "execution_count": null,
   "metadata": {},
   "outputs": [
    {
     "ename": "",
     "evalue": "",
     "output_type": "error",
     "traceback": [
      "\u001b[1;31m无法启动 Jupyter。试图定位jupyter时出错：在解释器 Python 3.9.1rc1 64-bit 中没有安装数据科学库 notebook。\n",
      "Run the following command to install 'jupyter 和 notebook' into the Python environment. \n",
      "Command: 'python -m pip install jupyter notebook -U\n",
      "or\n",
      "conda install jupyter notebook -U'\n",
      "Click <a href='https://aka.ms/installJupyterForVSCode'>here</a> for more info."
     ]
    },
    {
     "ename": "",
     "evalue": "",
     "output_type": "error",
     "traceback": [
      "\u001b[1;31m无法启动 Jupyter。试图定位jupyter时出错：在解释器 Python 3.9.1rc1 64-bit 中没有安装数据科学库 notebook。\n",
      "Run the following command to install 'jupyter 和 notebook' into the Python environment. \n",
      "Command: 'python -m pip install jupyter notebook -U\n",
      "or\n",
      "conda install jupyter notebook -U'\n",
      "Click <a href='https://aka.ms/installJupyterForVSCode'>here</a> for more info."
     ]
    }
   ],
   "source": [
    "mdl.addConstrs((quicksum(q[i]*x[i,j] for i in N)<=n[j]*ablty )for j in N);"
   ]
  },
  {
   "cell_type": "code",
   "execution_count": null,
   "metadata": {},
   "outputs": [
    {
     "name": "stdout",
     "output_type": "stream",
     "text": [
      "Gurobi Optimizer version 9.5.1 build v9.5.1rc2 (mac64[arm])\n",
      "Thread count: 8 physical cores, 8 logical processors, using up to 8 threads\n",
      "Optimize a model with 2593 rows, 1680912 columns and 3361824 nonzeros\n",
      "Model fingerprint: 0x0648216b\n",
      "Variable types: 1679616 continuous, 1296 integer (0 binary)\n",
      "Coefficient statistics:\n",
      "  Matrix range     [1e+00, 2e+01]\n",
      "  Objective range  [8e-03, 6e+04]\n",
      "  Bounds range     [1e+00, 1e+00]\n",
      "  RHS range        [1e+00, 3e+02]\n",
      "Found heuristic solution: objective 2.223536e+07\n",
      "Presolve removed 1 rows and 1 columns\n",
      "Presolve time: 2.17s\n",
      "Presolved: 2592 rows, 1680911 columns, 3361822 nonzeros\n",
      "Variable types: 1679616 continuous, 1295 integer (0 binary)\n",
      "\n",
      "Starting sifting (using dual simplex for sub-problems)...\n",
      "\n",
      "    Iter     Pivots    Primal Obj      Dual Obj        Time\n",
      "       0          0     infinity      0.0000000e+00      4s\n",
      "\n",
      "Sifting complete\n",
      "\n",
      "\n",
      "Root relaxation: objective 0.000000e+00, 1295 iterations, 0.39 seconds (0.35 work units)\n",
      "\n",
      "    Nodes    |    Current Node    |     Objective Bounds      |     Work\n",
      " Expl Unexpl |  Obj  Depth IntInf | Incumbent    BestBd   Gap | It/Node Time\n",
      "\n",
      "     0     0    0.00000    0 1292 2.2235e+07    0.00000   100%     -    4s\n",
      "H    0     0                    1.762603e+07    0.00000   100%     -    6s\n",
      "H    0     0                    6287788.3922    0.00000   100%     -    9s\n",
      "     0     0 111484.233    0  826 6287788.39 111484.233  98.2%     -   10s\n",
      "H    0     0                    1383881.2197 111484.233  91.9%     -   12s\n",
      "     0     0 145182.310    0  788 1383881.22 145182.310  89.5%     -   15s\n",
      "     0     0 239249.779    0  646 1383881.22 239249.779  82.7%     -   16s\n",
      "     0     0 291143.746    0  524 1383881.22 291143.746  79.0%     -   19s\n",
      "H    0     0                    853407.34667 291143.746  65.9%     -   20s\n",
      "     0     0 291637.891    0  515 853407.347 291637.891  65.8%     -   20s\n",
      "     0     0 291648.694    0  517 853407.347 291648.694  65.8%     -   21s\n",
      "     0     0 317037.960    0  415 853407.347 317037.960  62.9%     -   22s\n",
      "H    0     0                    709801.21076 317037.960  55.3%     -   23s\n",
      "     0     0 317751.439    0  403 709801.211 317751.439  55.2%     -   24s\n",
      "     0     0 317751.838    0  403 709801.211 317751.838  55.2%     -   24s\n",
      "     0     0 329369.192    0  377 709801.211 329369.192  53.6%     -   26s\n",
      "H    0     0                    556923.81357 329369.192  40.9%     -   28s\n",
      "     0     0 329889.270    0  362 556923.814 329889.270  40.8%     -   30s\n",
      "     0     0 330095.232    0  360 556923.814 330095.232  40.7%     -   30s\n",
      "     0     0 336409.271    0  269 556923.814 336409.271  39.6%     -   32s\n",
      "     0     0 336922.485    0  262 556923.814 336922.485  39.5%     -   33s\n",
      "     0     0 340206.302    0  217 556923.814 340206.302  38.9%     -   34s\n",
      "H    0     0                    449615.26574 340206.302  24.3%     -   35s\n",
      "     0     0 340446.937    0  232 449615.266 340446.937  24.3%     -   36s\n",
      "     0     0 342365.394    0  215 449615.266 342365.394  23.9%     -   38s\n",
      "     0     0 342365.394    0  211 449615.266 342365.394  23.9%     -   43s\n",
      "H    0     0                    410364.52790 342365.394  16.6%     -   45s\n",
      "H    0     0                    352848.98724 342365.394  2.97%     -   50s\n",
      "     0     2 342365.394    0  211 352848.987 342365.394  2.97%     -   52s\n",
      "     3     8 342685.374    2  189 352848.987 342585.511  2.91%  67.0   56s\n",
      "     7    16 342808.319    3  177 352848.987 342697.253  2.88%   110   60s\n",
      "    31    40 342901.969    6  172 352848.987 342870.930  2.83%  49.4   66s\n",
      "    57    69 343064.459    9  173 352848.987 342870.930  2.83%  32.1   71s\n",
      "    81    95 343143.125   12  175 352848.987 342870.930  2.83%  26.4   75s\n",
      "H   94   103                    351794.66512 342870.930  2.54%  24.1   80s\n",
      "H   95   103                    351557.39986 342870.930  2.47%  24.1   81s\n",
      "H  101   103                    351525.86830 342870.930  2.46%  23.1   81s\n",
      "   120   143 343317.039   19  184 351525.868 342870.930  2.46%  21.1   85s\n",
      "   184   200 343459.924   27  168 351525.868 342870.930  2.46%  18.5   90s\n",
      "   231   256 343735.150   35  175 351525.868 342870.930  2.46%  18.0   95s\n",
      "   272   296 343759.764   40  166 351525.868 342870.930  2.46%  17.2  100s\n",
      "   330   367 343885.358   46  163 351525.868 342870.930  2.46%  15.8  106s\n",
      "   396   428 344132.027   53  136 351525.868 342870.930  2.46%  15.0  111s\n",
      "   446   464 344179.143   61  132 351525.868 342870.930  2.46%  15.0  117s\n",
      "   463   500 344201.262   63  131 351525.868 342870.930  2.46%  14.8  120s\n",
      "   525   579 344218.810   65  136 351525.868 342870.930  2.46%  13.9  129s\n",
      "   578   632 344313.679   72  130 351525.868 342870.930  2.46%  13.1  133s\n",
      "   631   695 344322.461   76  122 351525.868 342870.930  2.46%  12.5  136s\n",
      "   694   731 344429.564   87  102 351525.868 342870.930  2.46%  12.0  141s\n",
      "   765   806 344628.272   96  101 351525.868 342870.930  2.46%  11.9  148s\n",
      "   805   860 344676.343   99   97 351525.868 342870.930  2.46%  11.7  153s\n",
      "H  859   745                    344764.84354 342870.930  0.55%  11.3  163s\n",
      "   867   758     cutoff  110      344764.844 342899.895  0.54%  11.3  170s\n",
      "   924   770 344627.171    8  163 344764.844 342899.895  0.54%  11.1  176s\n",
      "   973   805 344763.647   13  172 344764.844 342956.792  0.52%  11.0  181s\n",
      "  1019   857 344285.896    8  173 344764.844 342956.792  0.52%  10.9  186s\n",
      "  1074   891 344573.986   14  186 344764.844 342956.792  0.52%  10.8  191s\n",
      "  1123   933 344692.951   22  158 344764.844 342956.792  0.52%  10.8  197s\n",
      "  1176   971 344743.362   26  167 344764.844 342991.630  0.51%  10.8  202s\n",
      "  1231  1015 343116.610   10  176 344764.844 342992.504  0.51%  10.7  206s\n",
      "  1281  1071 343249.176   18  150 344764.844 342992.504  0.51%  10.8  212s\n",
      "  1355  1128 343366.357   26  148 344764.844 342992.504  0.51%  10.6  219s\n",
      "  1430  1188 343440.406   33  158 344764.844 342992.504  0.51%  10.4  224s\n",
      "H 1492  1005                    344588.54467 342992.504  0.46%  10.4  233s\n",
      "  1493  1000 344490.998   85  211 344588.545 342992.504  0.46%  10.4  239s\n",
      "  1494  1001 344174.768   74  211 344588.545 342992.504  0.46%  10.4  241s\n",
      "  1495  1001 344174.768   74 1229 344588.545 342992.504  0.46%  10.4  247s\n",
      "  1496  1002 343992.940   20  821 344588.545 342992.504  0.46%  10.4  254s\n",
      "  1497  1003 344029.208   43  640 344588.545 342992.504  0.46%  10.4  256s\n",
      "  1500  1005 344436.273   88  340 344588.545 342992.504  0.46%  10.4  264s\n",
      "  1501  1005 343883.424   44  271 344588.545 342992.504  0.46%  10.4  267s\n",
      "  1503  1007 343700.726   30  224 344588.545 342992.504  0.46%  10.4  271s\n",
      "  1506  1009 343243.337   10  199 344588.545 342992.504  0.46%  10.3  275s\n",
      "  1507  1009 344404.845   34  193 344588.545 342992.504  0.46%  10.3  299s\n",
      "  1508  1010 344300.306   65  132 344588.545 343492.421  0.32%  10.3  309s\n",
      "  1509  1011 343934.441   62  121 344588.545 343934.441  0.19%  10.3  311s\n",
      "  1512  1013 343945.429   44   92 344588.545 343945.429  0.19%  10.3  316s\n",
      "  1513  1013 344137.724   54   58 344588.545 344137.724  0.13%  10.3  322s\n",
      "  1516  1015 344189.579   26   43 344588.545 344189.579  0.12%  10.3  326s\n",
      "  1517  1016 344421.965   10   22 344588.545 344421.965  0.05%  10.3  354s\n",
      "  1518  1017 344434.017   26   30 344588.545 344434.017  0.04%  10.3  355s\n",
      "  1521  1019 344440.805   41   37 344588.545 344440.805  0.04%  10.2  364s\n",
      "  1522  1019 344445.808   26   23 344588.545 344445.808  0.04%  10.2  365s\n",
      "  1525  1021 344448.311   16   24 344588.545 344448.311  0.04%  10.2  373s\n",
      "H 1525   969                    344452.30005 344448.311  0.00%  10.2  373s\n",
      "\n",
      "Cutting planes:\n",
      "  Gomory: 5\n",
      "  Lift-and-project: 11\n",
      "  MIR: 4743\n",
      "\n",
      "Explored 1525 nodes (40956 simplex iterations) in 374.15 seconds (330.72 work units)\n",
      "Thread count was 8 (of 8 available processors)\n",
      "\n",
      "Solution count 10: 344452 344589 344765 ... 556924\n",
      "\n",
      "Optimal solution found (tolerance 1.00e-04)\n",
      "Best objective 3.444523000525e+05, best bound 3.444496982402e+05, gap 0.0008%\n"
     ]
    },
    {
     "ename": "",
     "evalue": "",
     "output_type": "error",
     "traceback": [
      "\u001b[1;31m无法启动 Jupyter。试图定位jupyter时出错：在解释器 Python 3.9.1rc1 64-bit 中没有安装数据科学库 notebook。\n",
      "Run the following command to install 'jupyter 和 notebook' into the Python environment. \n",
      "Command: 'python -m pip install jupyter notebook -U\n",
      "or\n",
      "conda install jupyter notebook -U'\n",
      "Click <a href='https://aka.ms/installJupyterForVSCode'>here</a> for more info."
     ]
    },
    {
     "ename": "",
     "evalue": "",
     "output_type": "error",
     "traceback": [
      "\u001b[1;31m无法启动 Jupyter。试图定位jupyter时出错：在解释器 Python 3.9.1rc1 64-bit 中没有安装数据科学库 notebook。\n",
      "Run the following command to install 'jupyter 和 notebook' into the Python environment. \n",
      "Command: 'python -m pip install jupyter notebook -U\n",
      "or\n",
      "conda install jupyter notebook -U'\n",
      "Click <a href='https://aka.ms/installJupyterForVSCode'>here</a> for more info."
     ]
    }
   ],
   "source": [
    "mdl.optimize()"
   ]
  },
  {
   "cell_type": "code",
   "execution_count": null,
   "metadata": {},
   "outputs": [
    {
     "data": {
      "image/png": "[encoded data removed]",
      "text/plain": [
       "<Figure size 432x288 with 1 Axes>"
      ]
     },
     "metadata": {
      "needs_background": "light"
     },
     "output_type": "display_data"
    },
    {
     "ename": "",
     "evalue": "",
     "output_type": "error",
     "traceback": [
      "\u001b[1;31m无法启动 Jupyter。试图定位jupyter时出错：在解释器 Python 3.9.1rc1 64-bit 中没有安装数据科学库 notebook。\n",
      "Run the following command to install 'jupyter 和 notebook' into the Python environment. \n",
      "Command: 'python -m pip install jupyter notebook -U\n",
      "or\n",
      "conda install jupyter notebook -U'\n",
      "Click <a href='https://aka.ms/installJupyterForVSCode'>here</a> for more info."
     ]
    },
    {
     "ename": "",
     "evalue": "",
     "output_type": "error",
     "traceback": [
      "\u001b[1;31m无法启动 Jupyter。试图定位jupyter时出错：在解释器 Python 3.9.1rc1 64-bit 中没有安装数据科学库 notebook。\n",
      "Run the following command to install 'jupyter 和 notebook' into the Python environment. \n",
      "Command: 'python -m pip install jupyter notebook -U\n",
      "or\n",
      "conda install jupyter notebook -U'\n",
      "Click <a href='https://aka.ms/installJupyterForVSCode'>here</a> for more info."
     ]
    }
   ],
   "source": [
    "# 画所有点及标注需求\n",
    "markersize=3\n",
    "linewidth=0.5\n",
    "for i in N:\n",
    "    xy=demandCoordinates[i]\n",
    "    plt.plot(xy[0],xy[1],c=\"b\",marker=\"s\",markersize=markersize)\n",
    "    #plt.text(xy[0],xy[1],f\"{q[i]}\")\n",
    "\n",
    "# 画需求量\n",
    "for i in N:\n",
    "    if (n[i].x>0):\n",
    "        xy=demandCoordinates[i]\n",
    "        col=plt.cm.rainbow\n",
    "        nMax=0.0\n",
    "        for ni in N:\n",
    "            # print(type(n[ni].x),n[ni].x,type(nMax))\n",
    "            if n[ni].x>nMax:\n",
    "                nMax=n[ni].x\n",
    "        norm=color.Normalize(vmax=round(nMax)+1,vmin=0)\n",
    "        plt.plot(xy[0],xy[1],marker=\"s\",color=col(norm(n[i].x)),markersize=markersize)\n",
    "        # plt.text(xy[0]-5,xy[1]-5,f\"{n[i].x}\",color=\"b\")\n",
    "        \n",
    "\n",
    "# 画供应线\n",
    "for i,j in A:\n",
    "    if x[i,j].x>0.0:\n",
    "        demandCoordinates[i][0],demandCoordinates[i][1]\n",
    "        demandCoordinates[j][0],demandCoordinates[j][1]\n",
    "        plt.plot([demandCoordinates[i][0],demandCoordinates[j][0]],[demandCoordinates[i][1],demandCoordinates[j][1]],color=\"r\",linewidth=linewidth)\n",
    "    "
   ]
  },
  {
   "cell_type": "code",
   "execution_count": null,
   "metadata": {},
   "outputs": [
    {
     "name": "stdout",
     "output_type": "stream",
     "text": [
      "0,1,0,0,0,0,0,0,1,0,0,0,1,0,1,1,0,0,0,0,0,0,1,0,0,0,1,0,0,0,1,0,0,1,1,1,0,0,0,1,0,1,0,1,0,0,0,0,1,0,0,0,1,1,0,0,0,0,1,1,0,1,0,0,0,0,1,0,0,1,0,0,1,0,0,1,0,0,0,1,0,0,1,0,1,0,0,1,0,0,0,0,0,1,0,0,1,1,1,0,0,0,1,0,0,0,0,0,0,0,0,1,0,0,1,0,1,0,0,0,0,0,0,0,0,1,0,0,1,0,0,0,1,1,1,0,1,0,1,0,1,0,0,1,0,1,0,0,1,0,0,1,0,0,0,0,0,0,0,0,0,0,1,0,0,0,0,0,0,0,1,0,0,0,0,1,0,0,0,0,0,0,1,0,0,0,1,0,1,0,0,1,0,0,0,0,0,0,1,0,0,0,1,0,0,0,0,0,0,0,0,0,0,1,0,0,0,0,0,1,0,0,0,0,0,0,0,1,0,0,0,0,0,0,1,0,0,0,0,1,0,0,0,0,0,0,1,0,0,0,0,0,0,0,0,1,0,0,0,0,0,1,0,0,0,0,0,0,0,0,0,0,1,1,0,0,0,1,0,0,0,0,1,1,0,0,0,1,0,0,0,0,0,0,0,0,1,0,0,1,0,0,0,0,0,0,0,1,1,0,0,0,0,0,0,0,0,0,1,1,0,0,0,0,0,0,1,0,0,0,0,0,0,0,1,0,0,0,0,0,1,0,0,0,1,0,0,1,0,0,0,0,1,0,0,0,1,0,0,1,0,0,0,0,0,0,0,0,1,0,0,0,0,1,0,0,1,0,0,1,0,0,0,0,1,0,1,0,0,0,0,0,0,0,0,0,1,0,1,0,0,0,0,0,0,0,0,1,1,0,0,0,0,0,1,0,0,0,0,0,1,0,0,0,1,0,0,0,0,0,1,0,1,0,0,0,0,0,0,0,0,0,0,0,0,0,1,0,0,0,0,0,0,1,0,0,0,0,0,0,0,1,0,0,0,0,0,1,1,0,0,0,0,0,0,0,1,0,0,0,0,0,0,0,0,0,1,0,0,0,1,0,0,0,0,1,1,0,0,0,0,0,0,0,1,0,1,0,1,0,0,0,0,0,0,0,0,0,0,1,0,0,1,0,0,0,0,0,0,0,0,1,1,0,0,0,0,0,0,1,0,0,0,1,0,0,0,0,0,0,0,0,0,0,0,0,0,1,0,0,0,0,0,0,0,0,0,1,0,0,0,1,0,0,0,1,0,0,0,1,0,1,0,0,0,0,1,1,0,0,0,0,0,0,0,0,0,0,0,0,0,0,0,0,1,1,0,0,0,0,0,1,0,0,1,0,0,0,0,0,0,0,0,1,0,0,0,0,0,1,0,1,0,0,0,1,0,1,0,0,0,1,0,0,0,0,0,1,0,1,0,0,0,0,0,0,0,0,1,0,0,0,0,0,0,1,0,0,0,0,1,1,0,0,0,0,0,0,0,0,0,1,0,0,0,0,0,1,1,0,0,0,0,0,0,1,0,0,1,0,0,0,0,0,1,0,0,0,0,1,0,0,1,0,0,0,0,0,0,0,1,0,0,0,0,0,1,0,0,1,0,0,1,0,0,0,0,1,0,0,1,0,0,1,0,0,0,0,1,0,1,0,0,0,1,0,0,0,0,0,0,0,0,0,0,0,0,0,0,0,0,0,0,1,0,0,1,1,0,0,1,0,0,0,0,1,0,1,0,1,1,0,0,0,1,0,0,0,1,0,0,0,0,0,0,1,1,0,0,0,0,0,0,0,0,1,0,1,0,1,0,0,0,0,0,0,0,0,0,1,0,1,0,1,0,0,0,0,0,0,1,0,0,0,0,0,1,1,0,1,0,0,0,0,0,0,0,0,1,0,0,0,0,0,1,0,0,0,1,0,0,1,0,0,0,0,0,0,0,0,0,0,0,0,1,0,0,1,0,0,1,0,0,0,0,1,0,1,0,1,1,0,0,0,1,0,0,0,0,0,0,1,1,0,0,0,1,0,0,0,0,0,0,0,0,0,1,0,1,0,0,0,0,1,0,1,0,0,0,0,1,0,1,1,0,0,0,0,0,0,1,0,1,0,0,0,1,0,0,0,1,0,0,0,0,1,1,0,0,0,0,0,0,0,1,0,1,0,0,0,1,0,0,0,0,0,0,0,0,0,1,0,0,1,0,1,0,0,1,1,0,0,0,0,0,0,0,1,1,0,0,0,0,0,0,0,0,1,0,1,0,0,0,0,0,0,0,1,0,1,1,0,0,0,1,0,0,0,0,0,0,0,1,0,0,0,0,1,0,0,0,0,0,0,0,0,0,0,0,1,1,1,0,1,0,1,0,1,1,1,0,0,0,0,0,1,0,1,0,0,0,0,0,0,1,0,0,1,0,0,0,0,0,0,0,0,0,0,0,1,0,1,0,1,0,0,0,0,0,1,0,0,0,1,1,0,0,0,0,0,1,0,0,0,0,0,1,0,0,0,0,1,1,0,0,1,0,0,0,1,0,0,0,0,0,0,1,1,0,0,0,1,1,0,0,0,1,0,0,0,0,1,0,0,0,0,1,0,0,0,0,0,0,0,0,1,0,1,0,1,0,1,0,1,0,0,0,0,0,1,0,0,0,0,1,0,0,1,0,0,0,0,0,0,0,0,0,0,0,1,0,1,0,0,1,0,1,0,0,0,0,1,0,1,0,0,0,0,0,0,1,0,1,0,1,0,0,1,0,1,0,1,1,0,0,1,0,1,0,0,0,0,1,0,0,1,0,1,0,0,0,1,0,1,1,0,1,0,0,0,1,1,1,0,0,0,0,1,0,0,1,0,1,0,1,0,0,0,0,1,0,0,0,1,0,1,"
     ]
    },
    {
     "ename": "",
     "evalue": "",
     "output_type": "error",
     "traceback": [
      "\u001b[1;31m无法启动 Jupyter。试图定位jupyter时出错：在解释器 Python 3.9.1rc1 64-bit 中没有安装数据科学库 notebook。\n",
      "Run the following command to install 'jupyter 和 notebook' into the Python environment. \n",
      "Command: 'python -m pip install jupyter notebook -U\n",
      "or\n",
      "conda install jupyter notebook -U'\n",
      "Click <a href='https://aka.ms/installJupyterForVSCode'>here</a> for more info."
     ]
    },
    {
     "ename": "",
     "evalue": "",
     "output_type": "error",
     "traceback": [
      "\u001b[1;31m无法启动 Jupyter。试图定位jupyter时出错：在解释器 Python 3.9.1rc1 64-bit 中没有安装数据科学库 notebook。\n",
      "Run the following command to install 'jupyter 和 notebook' into the Python environment. \n",
      "Command: 'python -m pip install jupyter notebook -U\n",
      "or\n",
      "conda install jupyter notebook -U'\n",
      "Click <a href='https://aka.ms/installJupyterForVSCode'>here</a> for more info."
     ]
    }
   ],
   "source": [
    "for i in N:\n",
    "    print(round(n[i].x),end=\",\")"
   ]
  },
  {
   "cell_type": "code",
   "execution_count": null,
   "metadata": {},
   "outputs": [
    {
     "name": "stdout",
     "output_type": "stream",
     "text": [
      "1.0\n"
     ]
    },
    {
     "ename": "",
     "evalue": "",
     "output_type": "error",
     "traceback": [
      "\u001b[1;31m无法启动 Jupyter。试图定位jupyter时出错：在解释器 Python 3.9.1rc1 64-bit 中没有安装数据科学库 notebook。\n",
      "Run the following command to install 'jupyter 和 notebook' into the Python environment. \n",
      "Command: 'python -m pip install jupyter notebook -U\n",
      "or\n",
      "conda install jupyter notebook -U'\n",
      "Click <a href='https://aka.ms/installJupyterForVSCode'>here</a> for more info."
     ]
    },
    {
     "ename": "",
     "evalue": "",
     "output_type": "error",
     "traceback": [
      "\u001b[1;31m无法启动 Jupyter。试图定位jupyter时出错：在解释器 Python 3.9.1rc1 64-bit 中没有安装数据科学库 notebook。\n",
      "Run the following command to install 'jupyter 和 notebook' into the Python environment. \n",
      "Command: 'python -m pip install jupyter notebook -U\n",
      "or\n",
      "conda install jupyter notebook -U'\n",
      "Click <a href='https://aka.ms/installJupyterForVSCode'>here</a> for more info."
     ]
    }
   ],
   "source": [
    "print(n[1].x)"
   ]
  },
  {
   "cell_type": "code",
   "execution_count": null,
   "metadata": {},
   "outputs": [
    {
     "ename": "",
     "evalue": "",
     "output_type": "error",
     "traceback": [
      "\u001b[1;31m无法启动 Jupyter。试图定位jupyter时出错：在解释器 Python 3.9.1rc1 64-bit 中没有安装数据科学库 notebook。\n",
      "Run the following command to install 'jupyter 和 notebook' into the Python environment. \n",
      "Command: 'python -m pip install jupyter notebook -U\n",
      "or\n",
      "conda install jupyter notebook -U'\n",
      "Click <a href='https://aka.ms/installJupyterForVSCode'>here</a> for more info."
     ]
    },
    {
     "ename": "",
     "evalue": "",
     "output_type": "error",
     "traceback": [
      "\u001b[1;31m无法启动 Jupyter。试图定位jupyter时出错：在解释器 Python 3.9.1rc1 64-bit 中没有安装数据科学库 notebook。\n",
      "Run the following command to install 'jupyter 和 notebook' into the Python environment. \n",
      "Command: 'python -m pip install jupyter notebook -U\n",
      "or\n",
      "conda install jupyter notebook -U'\n",
      "Click <a href='https://aka.ms/installJupyterForVSCode'>here</a> for more info."
     ]
    }
   ],
   "source": [
    "np.save()"
   ]
  }
 ],
 "metadata": {
  "interpreter": {
   "hash": "b8bdd4e700647ba2b08c59e5df8b7da1dcf50a218bcd4c1bcd9b3dc92e8788e5"
  },
  "kernelspec": {
   "display_name": "Python 3.9.1rc1 64-bit",
   "language": "python",
   "name": "python3"
  },
  "language_info": {
   "codemirror_mode": {
    "name": "ipython",
    "version": 3
   },
   "file_extension": ".py",
   "mimetype": "text/x-python",
   "name": "python",
   "nbconvert_exporter": "python",
   "pygments_lexer": "ipython3",
   "version": "3.9.1"
  },
  "orig_nbformat": 4
 },
 "nbformat": 4,
 "nbformat_minor": 2
}
