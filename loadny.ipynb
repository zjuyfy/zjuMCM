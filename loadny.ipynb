{
 "cells": [
  {
   "cell_type": "code",
   "execution_count": 15,
   "metadata": {},
   "outputs": [
    {
     "name": "stdout",
     "output_type": "stream",
     "text": [
      "260\n"
     ]
    }
   ],
   "source": [
    "import numpy as np\n",
    "with open (\"nyxy.txt\",mode=\"r\") as f:\n",
    "    str = f.readlines()\n",
    "size=int((str[-1].split(',')[0]))\n",
    "data = np.zeros((size,2), dtype = float)\n",
    "a=str[1].split(\",\")\n",
    "for line in str[1:]:\n",
    "    list=line.split(',')\n",
    "    data[int(list[0])-1][0]=list[1].strip(\"\\n\")\n",
    "    data[int(list[0])-1][1]=list[2].strip(\"\\n\")\n",
    "np.save(\"nyxy\",data)\n",
    "demandCoordinates=[(data[i][0],data[i][1]) for i in range(data.shape[0])]\n",
    "print(size)\n"
   ]
  },
  {
   "cell_type": "code",
   "execution_count": 18,
   "metadata": {},
   "outputs": [
    {
     "name": "stdout",
     "output_type": "stream",
     "text": [
      "260\n",
      "[[     0.           5028.06178314      0.         ... 220893.11430126\n",
      "  207668.05299437 199278.31184909]\n",
      " [  5028.06178314      0.           5028.06178314 ... 215865.05251813\n",
      "  202639.99121123 194250.25006595]\n",
      " [     0.           5028.06178314      0.         ... 220893.11430126\n",
      "  207668.05299437 199278.31184909]\n",
      " ...\n",
      " [220893.11430126 215865.05251813 220893.11430126 ...      0.\n",
      "   13225.0613069   21614.80245218]\n",
      " [207668.05299437 202639.99121123 207668.05299437 ...  13225.0613069\n",
      "       0.           8389.74114529]\n",
      " [199278.31184909 194250.25006595 199278.31184909 ...  21614.80245218\n",
      "    8389.74114529      0.        ]]\n"
     ]
    }
   ],
   "source": [
    "with open (\"nyod.txt\",mode=\"r\") as f:\n",
    "    str = f.readlines()\n",
    "size=int((str[-1].split(',')[2]))\n",
    "print(size)\n",
    "data = np.zeros((size,size), dtype = float)\n",
    "for line in str[1:]:\n",
    "    list=line.split(',')\n",
    "    data[int(list[2])-1][int(list[3])-1]=list[5].strip(\"\\n\")\n",
    "np.save(\"nyod\",data)\n",
    "print(data)"
   ]
  },
  {
   "cell_type": "code",
   "execution_count": null,
   "metadata": {},
   "outputs": [],
   "source": []
  }
 ],
 "metadata": {
  "interpreter": {
   "hash": "b8bdd4e700647ba2b08c59e5df8b7da1dcf50a218bcd4c1bcd9b3dc92e8788e5"
  },
  "kernelspec": {
   "display_name": "Python 3.9.1rc1 64-bit",
   "language": "python",
   "name": "python3"
  },
  "language_info": {
   "codemirror_mode": {
    "name": "ipython",
    "version": 3
   },
   "file_extension": ".py",
   "mimetype": "text/x-python",
   "name": "python",
   "nbconvert_exporter": "python",
   "pygments_lexer": "ipython3",
   "version": "3.9.1rc1"
  },
  "orig_nbformat": 4
 },
 "nbformat": 4,
 "nbformat_minor": 2
}
